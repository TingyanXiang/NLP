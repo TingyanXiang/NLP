{
 "cells": [
  {
   "cell_type": "code",
   "execution_count": 4,
   "metadata": {},
   "outputs": [],
   "source": [
    "import numpy as np\n",
    "import torch\n",
    "import torch.nn as nn\n",
    "import torch.nn.functional as F\n",
    "from torch.utils.data import Dataset\n",
    "import csv\n",
    "import string\n",
    "from collections import Counter\n",
    "import matplotlib.pyplot as plt\n",
    "from functools import partial\n",
    "import io\n",
    "import pickle as pkl\n",
    "import pandas as pd"
   ]
  },
  {
   "cell_type": "markdown",
   "metadata": {},
   "source": [
    "# SNLI"
   ]
  },
  {
   "cell_type": "code",
   "execution_count": 3,
   "metadata": {},
   "outputs": [],
   "source": [
    "# load wiki-embedding data\n",
    "def load_emb_vectors(fname):\n",
    "    fin = io.open(fname, 'r', encoding='utf-8', newline='\\n', errors='ignore')\n",
    "    n, d = map(int, fin.readline().split())\n",
    "    data = {}\n",
    "    for line in fin:\n",
    "        tokens = line.rstrip().split(' ')\n",
    "        data[tokens[0]] = np.array(list(map(float, tokens[1:])))\n",
    "    return data\n",
    "fname = 'wiki-news-300d-1M.vec'\n",
    "words_emb_dict = load_emb_vectors(fname)"
   ]
  },
  {
   "cell_type": "code",
   "execution_count": 5,
   "metadata": {},
   "outputs": [],
   "source": [
    "# load data \n",
    "def read_tsv_file(filename):\n",
    "    premises = []\n",
    "    hypothesis = []\n",
    "    labels = []\n",
    "    with open(filename, 'r') as f:\n",
    "        reader = csv.reader(f, delimiter='\\t')\n",
    "        for row in reader:\n",
    "            premises.append(row[0])\n",
    "            hypothesis.append(row[1])\n",
    "            labels.append(row[2])\n",
    "    premises = premises[1:]\n",
    "    hypothesis = hypothesis[1:]\n",
    "    labels = labels[1:]\n",
    "    return premises, hypothesis, labels"
   ]
  },
  {
   "cell_type": "code",
   "execution_count": 6,
   "metadata": {},
   "outputs": [],
   "source": [
    "# load original data\n",
    "val_name = 'hw2_data/snli_val.tsv'\n",
    "val_premises, val_hypothesis, val_labels = read_tsv_file(val_name)\n",
    "\n",
    "train_name = 'hw2_data/snli_train.tsv'\n",
    "train_premises, train_hypothesis, train_labels = read_tsv_file(train_name)"
   ]
  },
  {
   "cell_type": "code",
   "execution_count": 7,
   "metadata": {},
   "outputs": [],
   "source": [
    "# tokenize\n",
    "def tokenize_sentence(sent):\n",
    "    tokens = sent.strip().split(' ')\n",
    "    return tokens\n",
    "#[token.lower() for token in tokens if (token not in punctuations)]\n",
    "\n",
    "def tokenize_dataset(dataset, train=False):\n",
    "    dataset_token = []\n",
    "    all_tokens = []\n",
    "    for item in dataset:\n",
    "        item_tokens = tokenize_sentence(item)\n",
    "        dataset_token.append(item_tokens)\n",
    "        if train:\n",
    "            all_tokens.extend(item_tokens)\n",
    "    return dataset_token, all_tokens"
   ]
  },
  {
   "cell_type": "code",
   "execution_count": 8,
   "metadata": {},
   "outputs": [],
   "source": [
    "# tokenized data\n",
    "train_premises_tokens, premises_all_tokens = tokenize_dataset(train_premises, train=True)\n",
    "train_hypothesis_tokens, hypotheis_all_tokens = tokenize_dataset(train_hypothesis, train=True)\n",
    "train_all_tokens = premises_all_tokens + hypotheis_all_tokens\n",
    "\n",
    "val_premises_tokens, _ = tokenize_dataset(val_premises, train=False)\n",
    "val_hypothesis_tokens, _= tokenize_dataset(val_hypothesis, train=False)"
   ]
  },
  {
   "cell_type": "code",
   "execution_count": 9,
   "metadata": {},
   "outputs": [
    {
     "name": "stdout",
     "output_type": "stream",
     "text": [
      "min:2, max:82\n"
     ]
    },
    {
     "data": {
      "image/png": "[encoded data removed]",
      "text/plain": [
       "<matplotlib.figure.Figure at 0x2b3592d93a90>"
      ]
     },
     "metadata": {},
     "output_type": "display_data"
    }
   ],
   "source": [
    "# length statistics \n",
    "length_sent = []\n",
    "for sample in train_premises_tokens:\n",
    "    length_sent.append(len(sample))\n",
    "len_count = pd.Series(Counter(length_sent)).sort_index\n",
    "def plot_length_freq(data):\n",
    "    plt.hist(data, bins=50) #np.arange(min(data), max(data)+1)\n",
    "    plt.title('freq of length of reviews')\n",
    "    print('min:{0}, max:{1}'.format(min(data), max(data)))\n",
    "plot_length_freq(length_sent)"
   ]
  },
  {
   "cell_type": "code",
   "execution_count": 106,
   "metadata": {},
   "outputs": [],
   "source": [
    "# Build embedding matrix according to vocab\n",
    "def build_vocab(all_tokens, max_vocab_size):\n",
    "    # Returns:\n",
    "    # id2token: list of tokens, where id2token[i] returns token that corresponds to token i\n",
    "    # token2id: dictionary where keys represent tokens and corresponding values represent indices\n",
    "    PAD_IDX = 0\n",
    "    UNK_IDX = 1\n",
    "    token_counter = Counter(all_tokens)\n",
    "    print('The number of tokens totally: ', len(token_counter))\n",
    "    vocab, count = zip(*token_counter.most_common(max_vocab_size))\n",
    "    id2token = list(vocab)\n",
    "    token2id = dict(zip(vocab, range(2,2+len(vocab)))) \n",
    "    id2token = ['<pad>', '<unk>'] + id2token\n",
    "    token2id['<pad>'] = PAD_IDX \n",
    "    token2id['<unk>'] = UNK_IDX\n",
    "    return token2id, id2token\n",
    "\n",
    "token2id, id2token = build_vocab(train_all_tokens, max_vocab_size=30000)\n",
    "def build_emb_weight(words_emb_dict, id2token):\n",
    "    vocab_size = len(id2token)\n",
    "    emb_weight = np.zeros([vocab_size, 300])\n",
    "    for i in range(2,vocab_size):\n",
    "        emb = words_emb_dict.get(id2token[i], None)\n",
    "        if emb is not None:\n",
    "            emb_weight[i] = emb\n",
    "    return emb_weight\n",
    "\n",
    "emb_weight = build_emb_weight(words_emb_dict, id2token)\n",
    "\n",
    "# dump data about vocab and embedding\n",
    "pkl.dump(token2id, open(\"hw2_data/token2id.p\", \"wb\"))\n",
    "pkl.dump(id2token, open(\"hw2_data/id2token.p\", \"wb\"))\n",
    "pkl.dump(emb_weight, open(\"hw2_data/embedding_weight.p\", \"wb\"))"
   ]
  },
  {
   "cell_type": "code",
   "execution_count": 11,
   "metadata": {},
   "outputs": [],
   "source": [
    "# convert token to id in the dataset\n",
    "def token2index_dataset(tokens_data, token2id):\n",
    "    UNK_IDX = 1\n",
    "    indices_data = []\n",
    "    for tokens in tokens_data:\n",
    "        index_list = [token2id[token] if token in token2id else UNK_IDX for token in tokens]\n",
    "        indices_data.append(index_list)\n",
    "    return indices_data"
   ]
  },
  {
   "cell_type": "code",
   "execution_count": 12,
   "metadata": {},
   "outputs": [],
   "source": [
    "# load vocab and embeddings\n",
    "token2id = pkl.load(open(\"hw2_data/token2id.p\", \"rb\"))\n",
    "id2token = pkl.load(open(\"hw2_data/id2token.p\", \"rb\"))\n",
    "emb_weight = pkl.load(open(\"hw2_data/embedding_weight.p\", \"rb\"))"
   ]
  },
  {
   "cell_type": "code",
   "execution_count": 15,
   "metadata": {},
   "outputs": [],
   "source": [
    "train_premises_index = token2index_dataset(train_premises_tokens, token2id)\n",
    "train_hypothesis_index = token2index_dataset(train_hypothesis_tokens, token2id)\n",
    "\n",
    "val_premises_index = token2index_dataset(val_premises_tokens, token2id)\n",
    "val_hypothesis_index = token2index_dataset(val_hypothesis_tokens, token2id)"
   ]
  },
  {
   "cell_type": "code",
   "execution_count": 16,
   "metadata": {},
   "outputs": [],
   "source": [
    "# transform labels\n",
    "label_dict = {'neutral': 0, 'contradiction': 1, 'entailment': 2}\n",
    "train_labels_index = [label_dict[label] for label in train_labels]\n",
    "val_labels_index = [label_dict[label] for label in val_labels]"
   ]
  },
  {
   "cell_type": "code",
   "execution_count": 17,
   "metadata": {},
   "outputs": [],
   "source": [
    "class NewsGroupDataset(Dataset):\n",
    "    \"\"\"\n",
    "    Class that represents a train/validation/test dataset that's readable for PyTorch\n",
    "    Note that this class inherits torch.utils.data.Dataset\n",
    "    \"\"\"\n",
    "    \n",
    "    def __init__(self, premises_list, hypothesis_list, labels_list, max_length_pre, max_length_hy):\n",
    "        \"\"\"\n",
    "        @param data_list: list of newsgroup tokens \n",
    "        @param target_list: list of newsgroup targets \n",
    "\n",
    "        \"\"\"\n",
    "        self.premises_list = premises_list\n",
    "        self.hypothesis_list = hypothesis_list\n",
    "        self.labels_list = labels_list\n",
    "        self.max_length_pre = max_length_pre\n",
    "        self.max_length_hy = max_length_hy\n",
    "        assert (len(self.premises_list) == len(self.labels_list))\n",
    "        assert (len(self.hypothesis_list) == len(self.labels_list))\n",
    "\n",
    "    def __len__(self):\n",
    "        return len(self.premises_list)\n",
    "        \n",
    "    def __getitem__(self, key):\n",
    "        \"\"\"\n",
    "        Triggered when you call dataset[i]\n",
    "        \"\"\"\n",
    "        premises_idx = self.premises_list[key][:self.max_length_pre]\n",
    "        hypothesis_idx = self.hypothesis_list[key][:self.max_length_hy]\n",
    "        label = self.labels_list[key]\n",
    "        return [premises_idx, hypothesis_idx, label]\n",
    "\n",
    "def newsgroup_collate_func(batch, max_length_pre, max_length_hy):\n",
    "    \"\"\"\n",
    "    Customized function for DataLoader that dynamically pads the batch so that all \n",
    "    data have the same length\n",
    "    \"\"\"\n",
    "    premises_list = []\n",
    "    hypothesis_list = []\n",
    "    label_list = []\n",
    "    len_pre_list = []\n",
    "    len_hy_list = []\n",
    "    for datum in batch:\n",
    "        label_list.append(datum[2])\n",
    "        len_pre = len(datum[0])\n",
    "        len_hy = len(datum[1])\n",
    "        len_pre_list.append(len_pre)\n",
    "        len_hy_list.append(len_hy)\n",
    "        \n",
    "    # padding\n",
    "        padded_pre = np.pad(np.array(datum[0]), \n",
    "                                pad_width=((0,max_length_pre-len_pre)), \n",
    "                                mode=\"constant\", constant_values=0)\n",
    "        premises_list.append(padded_pre)\n",
    "        padded_hy = np.pad(np.array(datum[1]), \n",
    "                                pad_width=((0,max_length_hy-len_hy)), \n",
    "                                mode=\"constant\", constant_values=0)\n",
    "        hypothesis_list.append(padded_hy)\n",
    "    return [torch.from_numpy(np.array(premises_list)), torch.from_numpy(np.array(hypothesis_list)), \n",
    "            torch.LongTensor(len_pre_list), torch.LongTensor(len_hy_list), torch.LongTensor(label_list)]\n",
    "\n",
    "def create_dataset_obj(train,val,train_targets,val_targets,BATCH_SIZE,max_len_pre,max_len_hy,newsgroup_collate_func):\n",
    "    newsgroup_collate_func = partial(newsgroup_collate_func, max_length_pre=max_len_pre, max_length_hy=max_len_hy)\n",
    "    train_dataset = NewsGroupDataset(train[0], train[1], train_targets, max_len_pre, max_len_hy)\n",
    "    # premises_list, hypothesis_list, labels_list, max_length_pre, max_length_hy\n",
    "    train_loader = torch.utils.data.DataLoader(dataset=train_dataset, \n",
    "                                               batch_size=BATCH_SIZE,\n",
    "                                               collate_fn=newsgroup_collate_func,\n",
    "                                               shuffle=True)\n",
    "\n",
    "    val_dataset = NewsGroupDataset(val[0], val[1], val_targets, max_len_pre, max_len_hy)\n",
    "    val_loader = torch.utils.data.DataLoader(dataset=val_dataset, \n",
    "                                               batch_size=BATCH_SIZE,\n",
    "                                               collate_fn=newsgroup_collate_func,\n",
    "                                               shuffle=False)\n",
    "    return train_loader, val_loader"
   ]
  },
  {
   "cell_type": "code",
   "execution_count": 99,
   "metadata": {},
   "outputs": [],
   "source": [
    "def create_emb_layer(weights_matrix, trainable=False):\n",
    "    vocab_size, emb_dim = weights_matrix.size()\n",
    "    emb_layer = nn.Embedding(vocab_size, emb_dim)\n",
    "    emb_layer.load_state_dict({'weight': weights_matrix})\n",
    "    if trainable == False:\n",
    "        emb_layer.weight.requires_grad = False\n",
    "    return emb_layer, vocab_size, emb_dim\n",
    "\n",
    "class model_with_CNN(nn.Module):\n",
    "    def __init__(self, channel_out_pre, channel_out_hy, kz_pre, kz_hy, \n",
    "                 hidden_size, drop_rate, num_classes, weights_matrix):\n",
    "\n",
    "        super(model_with_CNN, self).__init__()\n",
    "\n",
    "        #self.channel_out = channel_out\n",
    "        self.embedding, vocab_size, emb_dim = create_emb_layer(weights_matrix, trainable=False)\n",
    "        \n",
    "        # module for premise\n",
    "        pads=(0,0)\n",
    "        self.pre_conv1 = nn.Conv1d(emb_dim, channel_out_pre[0], kernel_size=kz_pre[0], padding=pads[0])\n",
    "        self.pre_conv2 = nn.Conv1d(channel_out_pre[0], channel_out_pre[1], kernel_size=kz_pre[1], padding=pads[1])\n",
    "        #out_dim = emb_dim+pads[0]*2-kz_pre[0]+1\n",
    "        \n",
    "        # module for hypothesis\n",
    "#         self.hy_conv1 = self.pre_conv1\n",
    "#         self.hy_conv2 = self.pre_conv2\n",
    "        pads=(0,0)\n",
    "        self.hy_conv1 = nn.Conv1d(emb_dim, channel_out_hy[0], kernel_size=kz_hy[0], padding=pads[0])\n",
    "        self.hy_conv2 = nn.Conv1d(channel_out_hy[0], channel_out_hy[1], kernel_size=kz_hy[1], padding=pads[1])\n",
    "        \n",
    "        # module for interaction\n",
    "        self.dropout = nn.Dropout(drop_rate)\n",
    "        self.linear1 = nn.Linear(channel_out_pre[-1]+channel_out_hy[-1], hidden_size)\n",
    "        self.linear2 = nn.Linear(hidden_size, num_classes)\n",
    "\n",
    "    def forward(self, pre, hy):\n",
    "        #module for premise\n",
    "        embed = self.embedding(pre)\n",
    "        hidden = self.pre_conv1(embed.transpose(1,2))\n",
    "        hidden = F.relu(hidden)\n",
    "        hidden = self.pre_conv2(hidden)\n",
    "        hidden = F.relu(hidden)\n",
    "        hidden = F.max_pool1d(hidden, kernel_size=hidden.size(2))\n",
    "        hidden_pre = hidden.squeeze()\n",
    "        #print(hidden_pre.size())\n",
    "        \n",
    "        #module for hypothesis\n",
    "        embed = self.embedding(hy)\n",
    "        hidden = self.hy_conv1(embed.transpose(1,2))\n",
    "        hidden = F.relu(hidden)\n",
    "        hidden = self.hy_conv2(hidden)\n",
    "        hidden = F.relu(hidden)\n",
    "        hidden = F.max_pool1d(hidden, kernel_size=hidden.size(2))\n",
    "        hidden_hy = hidden.squeeze()\n",
    "        \n",
    "        hidden_cat = torch.cat((hidden_pre, hidden_hy), 1)\n",
    "        #print(hidden_cat.size())\n",
    "        \n",
    "        # full connected layers\n",
    "        hidden_cat = self.dropout(hidden_cat)\n",
    "        hidden = self.linear1(hidden_cat)\n",
    "        hidden = F.relu(hidden)\n",
    "        logits = self.linear2(hidden)\n",
    "        #print(logits.size())\n",
    "        return logits\n",
    "    \n",
    "def test_model(loader, model, criterion):\n",
    "    \"\"\"\n",
    "    Help function that tests the model's performance on a dataset\n",
    "    @param: loader - data loader for the dataset to test against\n",
    "    \"\"\"\n",
    "    correct = 0\n",
    "    total = 0\n",
    "    loss = []\n",
    "    model.eval()\n",
    "    for pre_batch, hy_batch, _, _, labels_batch in loader:\n",
    "        pre_batch, hy_batch, labels_batch = pre_batch.cuda(), hy_batch.cuda(), labels_batch.cuda()\n",
    "        outputs = model(pre_batch, hy_batch)\n",
    "        loss.append((criterion(outputs, labels_batch)).item())\n",
    "        outputs = F.softmax(outputs, dim=1)\n",
    "        predicted = outputs.max(1, keepdim=True)[1]\n",
    "        \n",
    "        total += labels_batch.size(0)\n",
    "        correct += predicted.eq(labels_batch.cuda().view_as(predicted)).sum().item()\n",
    "    return np.mean(loss), (100 * correct / total)\n",
    "\n",
    "def compute_train_acc_batch(pre_batch, hy_batch, labels_batch, model):\n",
    "    outputs = model(pre_batch, hy_batch)\n",
    "    outputs = F.softmax(outputs, dim=1)\n",
    "    predicted = outputs.max(1, keepdim=True)[1]\n",
    "    acc = predicted.eq(labels_batch.view_as(predicted)).sum().item()/predicted.size(0)\n",
    "    return 100*acc"
   ]
  },
  {
   "cell_type": "code",
   "execution_count": 107,
   "metadata": {},
   "outputs": [],
   "source": [
    "def train_model(params):\n",
    "    batch_size = params['batch_size']\n",
    "    max_len_pre = params['max_len_pre']\n",
    "    max_len_hy = params['max_len_hy']\n",
    "    train = params['train']\n",
    "    val = params['val']\n",
    "    train_targets = params['train_targets']\n",
    "    val_targets = params['val_targets']\n",
    "    train_loader, val_loader = create_dataset_obj((train_premises_index,train_hypothesis_index),(val_premises_index,val_hypothesis_index),\n",
    "                                                  train_labels_index,val_labels_index,batch_size,\n",
    "                                                  max_len_pre,max_len_hy,newsgroup_collate_func)\n",
    "    # build model\n",
    "    channel_out_pre = params['channel_out_pre']\n",
    "    channel_out_hy = params['channel_out_hy']\n",
    "    kz_pre = params['kz_pre']\n",
    "    kz_hy = params['kz_hy']\n",
    "    hidden_size = params['hidden_size']\n",
    "    drop_rate = params['drop_rate']\n",
    "    num_classes = 3\n",
    "    weights_matrix = torch.from_numpy(emb_weight)\n",
    "    model = model_with_CNN(channel_out_pre, channel_out_hy, kz_pre, kz_hy, \n",
    "                           hidden_size, drop_rate, num_classes, weights_matrix)\n",
    "    model_parameters = filter(lambda p: p.requires_grad, model.parameters())\n",
    "    trainable_params_num = sum([np.prod(p.size()) for p in model_parameters])\n",
    "    print('The number of train parameters', trainable_params_num)\n",
    "\n",
    "    model.cuda()\n",
    "\n",
    "    #parameter for training\n",
    "    learning_rate = params['learning_rate']\n",
    "    num_epochs = params['num_epochs'] # number epoch to train\n",
    "\n",
    "    # Criterion and Optimizer\n",
    "    criterion = torch.nn.CrossEntropyLoss()\n",
    "    optimizer = torch.optim.Adam(model.parameters(), lr=learning_rate)\n",
    "\n",
    "    train_loss_list = []\n",
    "    train_acc_list = []\n",
    "    val_loss_list = []\n",
    "    val_acc_list = []\n",
    "    max_val_acc = 0\n",
    "\n",
    "    for epoch in range(num_epochs):\n",
    "        for i, (pre_batch, hy_batch, _, _, labels_batch) in enumerate(train_loader):\n",
    "            pre_batch, hy_batch, labels_batch = pre_batch.cuda(), hy_batch.cuda(), labels_batch.cuda()\n",
    "            model.train()\n",
    "            optimizer.zero_grad()\n",
    "            outputs = model(pre_batch, hy_batch)\n",
    "            loss = criterion(outputs, labels_batch)\n",
    "            loss.backward()\n",
    "            optimizer.step()\n",
    "            # validate every 100 iterations\n",
    "            if i % 10 == 0:\n",
    "                # validate\n",
    "                train_loss_list.append(loss.item())\n",
    "                acc_train = compute_train_acc_batch(pre_batch, hy_batch, labels_batch, model)\n",
    "                train_acc_list.append(acc_train)\n",
    "                loss_val, acc_val = test_model(val_loader, model, criterion)\n",
    "                val_loss_list.append(loss_val)\n",
    "                val_acc_list.append(acc_val)\n",
    "#                 if i % 100 == 0:\n",
    "#                     print('{}/{}, Step: {}/{}, TrainLoss:{:.6f}, ValLoss:{:.6f}, TrainAcc:{:.2f}, ValAcc:{:.2f}'.format(\n",
    "#                         epoch+1, num_epochs, i+1, len(train_loader), loss, loss_val, acc_train, acc_val))\n",
    "        loss_val, acc_val = test_model(val_loader, model, criterion)\n",
    "        print('Epoch: [{}/{}], Validation Acc: {}'.format(epoch+1, num_epochs, acc_val))\n",
    "        if epoch > 3 and acc_val > max_val_acc:\n",
    "            max_val_acc = acc_val\n",
    "            # save best model\n",
    "            # model.save_state_dict(params['best_model_name'])\n",
    "            # model.load_state_dict(torch.load('mytraining.pt'))\n",
    "    return max_val_acc, trainable_params_num, train_loss_list, train_acc_list, val_loss_list, val_acc_list"
   ]
  },
  {
   "cell_type": "code",
   "execution_count": 101,
   "metadata": {},
   "outputs": [],
   "source": [
    "params= {\n",
    "    'learning_rate': 0.001,\n",
    "    'num_epochs': 1,\n",
    "    'batch_size': 100,\n",
    "    \n",
    "    'max_len_pre': 80,\n",
    "    'max_len_hy': 40,\n",
    "    \n",
    "    'channel_out_pre': (200, 200),\n",
    "    'channel_out_hy': (200, 200),\n",
    "    'kz_pre': (3,3),\n",
    "    'kz_hy': (3,3),\n",
    "    'hidden_size': 100,\n",
    "    'drop_rate': 0.2,\n",
    "    \n",
    "    'train': (train_premises_index,train_hypothesis_index),\n",
    "    'val': (val_premises_index,val_hypothesis_index),\n",
    "    'train_targets': train_labels_index,\n",
    "    'val_targets': val_labels_index\n",
    "}"
   ]
  },
  {
   "cell_type": "code",
   "execution_count": 102,
   "metadata": {},
   "outputs": [
    {
     "name": "stdout",
     "output_type": "stream",
     "text": [
      "The number of train parameters 641203\n",
      "Epoch: [1/1], Validation Acc: 61.4\n"
     ]
    }
   ],
   "source": [
    "result2 = train_model(params)"
   ]
  },
  {
   "cell_type": "code",
   "execution_count": 50,
   "metadata": {},
   "outputs": [
    {
     "name": "stdout",
     "output_type": "stream",
     "text": [
      "70.4 69.0 68.4\n",
      "240803 240803 240803\n"
     ]
    },
    {
     "data": {
      "image/png": "[encoded data removed]",
      "text/plain": [
       "<matplotlib.figure.Figure at 0x2b35ae065128>"
      ]
     },
     "metadata": {},
     "output_type": "display_data"
    },
    {
     "data": {
      "image/png": "[encoded data removed]",
      "text/plain": [
       "<matplotlib.figure.Figure at 0x2b35adfb6668>"
      ]
     },
     "metadata": {},
     "output_type": "display_data"
    }
   ],
   "source": [
    "# plot results\n",
    "max_val_acc1, params_num1, train_loss_list1, train_acc_list1, val_loss_list1, val_acc_list1 = result1\n",
    "max_val_acc2, params_num2, train_loss_list2, train_acc_list2, val_loss_list2, val_acc_list2 = result2\n",
    "max_val_acc3, params_num3, train_loss_list3, train_acc_list3, val_loss_list3, val_acc_list3 = result3\n",
    "# max_val_acc4, params_num4, train_loss_list4, train_acc_list4, val_loss_list4, val_acc_list4 = result4\n",
    "print(max_val_acc1, max_val_acc2, max_val_acc3)\n",
    "print(params_num1, params_num2, params_num3)\n",
    "\n",
    "intevel = 10\n",
    "plt.title('Loss')\n",
    "plt.plot(train_loss_list1[::intevel], label='1 train')\n",
    "plt.plot(train_loss_list2[::intevel], label='2 train')\n",
    "plt.plot(train_loss_list3[::intevel], label='3 train')\n",
    "plt.plot(val_loss_list1[::intevel], label='1 val')\n",
    "plt.plot(val_loss_list2[::intevel], label='2 val')\n",
    "plt.plot(val_loss_list3[::intevel], label='3 val')\n",
    "# plt.plot(train_loss_list3[::intevel], label='3')\n",
    "# plt.plot(train_loss_list4[::intevel], label='4')\n",
    "plt.legend()\n",
    "plt.xlabel('Steps')\n",
    "plt.show()\n",
    "\n",
    "# plt.title('Val Loss')\n",
    "# plt.plot(val_loss_list1[::intevel], label='1')\n",
    "# plt.plot(val_loss_list2[::intevel], label='2')\n",
    "# plt.plot(val_loss_list3[::intevel], label='3')\n",
    "# plt.plot(val_loss_list4[::intevel], label='4')\n",
    "# plt.xlabel('Steps')\n",
    "# plt.show()\n",
    "\n",
    "plt.title('Accuracy')\n",
    "plt.plot(val_acc_list1[::intevel], label='1 val')\n",
    "plt.plot(train_acc_list1[::intevel], label='1 train')\n",
    "plt.plot(val_acc_list2[::intevel], label='2 val')\n",
    "plt.plot(train_acc_list2[::intevel], label='2 train')\n",
    "plt.plot(val_acc_list3[::intevel], label='3 val')\n",
    "plt.plot(train_acc_list3[::intevel], label='3 train')\n",
    "plt.legend()\n",
    "plt.xlabel('Steps')\n",
    "plt.show()"
   ]
  },
  {
   "cell_type": "markdown",
   "metadata": {},
   "source": [
    "### evaluation"
   ]
  },
  {
   "cell_type": "code",
   "execution_count": 104,
   "metadata": {},
   "outputs": [],
   "source": [
    "params = {\n",
    "    'learning_rate': 0.001,\n",
    "    'num_epochs': 10,\n",
    "    'batch_size': 100,\n",
    "    'best_model_name': 'best_cnn_1.pt',\n",
    "    \n",
    "    'max_len_pre': 80,\n",
    "    'max_len_hy': 40,\n",
    "    \n",
    "    'channel_out_pre': (200, 200),\n",
    "    'channel_out_hy': (200, 200),\n",
    "    'kz_pre': (2,2),\n",
    "    'kz_hy': (2,2),\n",
    "    'hidden_size': 100,\n",
    "    'drop_rate': 0,\n",
    "    \n",
    "    'train': (train_premises_index,train_hypothesis_index),\n",
    "    'val': (val_premises_index,val_hypothesis_index),\n",
    "    'train_targets': train_labels_index,\n",
    "    'val_targets': val_labels_index\n",
    "}"
   ]
  },
  {
   "cell_type": "code",
   "execution_count": 59,
   "metadata": {},
   "outputs": [
    {
     "name": "stdout",
     "output_type": "stream",
     "text": [
      "The number of train parameters 240803\n",
      "Epoch: [1/10], Validation Acc: 64.3\n",
      "Epoch: [2/10], Validation Acc: 66.1\n",
      "Epoch: [3/10], Validation Acc: 69.1\n",
      "Epoch: [4/10], Validation Acc: 68.2\n",
      "Epoch: [5/10], Validation Acc: 69.8\n",
      "Epoch: [6/10], Validation Acc: 68.1\n",
      "Epoch: [7/10], Validation Acc: 70.4\n",
      "Epoch: [8/10], Validation Acc: 67.9\n",
      "Epoch: [9/10], Validation Acc: 67.6\n",
      "Epoch: [10/10], Validation Acc: 69.2\n"
     ]
    }
   ],
   "source": [
    "batch_size = params['batch_size']\n",
    "max_len_pre = params['max_len_pre']\n",
    "max_len_hy = params['max_len_hy']\n",
    "train = params['train']\n",
    "val = params['val']\n",
    "train_targets = params['train_targets']\n",
    "val_targets = params['val_targets']\n",
    "train_loader, val_loader = create_dataset_obj((train_premises_index,train_hypothesis_index),(val_premises_index,val_hypothesis_index),\n",
    "                                              train_labels_index,val_labels_index,batch_size,\n",
    "                                              max_len_pre,max_len_hy,newsgroup_collate_func)\n",
    "# build model\n",
    "channel_out_pre = params['channel_out_pre']\n",
    "channel_out_hy = params['channel_out_hy']\n",
    "kz_pre = params['kz_pre']\n",
    "kz_hy = params['kz_hy']\n",
    "hidden_size = params['hidden_size']\n",
    "drop_rate = params['drop_rate']\n",
    "num_classes = 3\n",
    "weights_matrix = torch.from_numpy(emb_weight)\n",
    "model = model_with_CNN(channel_out_pre, channel_out_hy, kz_pre, kz_hy, \n",
    "                       hidden_size, drop_rate, num_classes, weights_matrix)\n",
    "model_parameters = filter(lambda p: p.requires_grad, model.parameters())\n",
    "trainable_params_num = sum([np.prod(p.size()) for p in model_parameters])\n",
    "print('The number of train parameters', trainable_params_num)\n",
    "\n",
    "model.cuda()\n",
    "\n",
    "#parameter for training\n",
    "learning_rate = params['learning_rate']\n",
    "num_epochs = params['num_epochs'] # number epoch to train\n",
    "\n",
    "# Criterion and Optimizer\n",
    "criterion = torch.nn.CrossEntropyLoss()\n",
    "optimizer = torch.optim.Adam(model.parameters(), lr=learning_rate)\n",
    "\n",
    "train_loss_list = []\n",
    "train_acc_list = []\n",
    "val_loss_list = []\n",
    "val_acc_list = []\n",
    "max_val_acc = 0\n",
    "\n",
    "for epoch in range(num_epochs):\n",
    "    for i, (pre_batch, hy_batch, _, _, labels_batch) in enumerate(train_loader):\n",
    "        pre_batch, hy_batch, labels_batch = pre_batch.cuda(), hy_batch.cuda(), labels_batch.cuda()\n",
    "        model.train()\n",
    "        optimizer.zero_grad()\n",
    "        outputs = model(pre_batch, hy_batch)\n",
    "        loss = criterion(outputs, labels_batch)\n",
    "        loss.backward()\n",
    "        optimizer.step()\n",
    "        # validate every 100 iterations\n",
    "        if i % 100 == 0:\n",
    "            # validate\n",
    "            train_loss_list.append(loss.item())\n",
    "            acc_train = compute_train_acc_batch(pre_batch, hy_batch, labels_batch, model)\n",
    "            train_acc_list.append(acc_train)\n",
    "            loss_val, acc_val = test_model(val_loader, model, criterion)\n",
    "            val_loss_list.append(loss_val)\n",
    "            val_acc_list.append(acc_val)\n",
    "#                 if i % 100 == 0:\n",
    "#                     print('{}/{}, Step: {}/{}, TrainLoss:{:.6f}, ValLoss:{:.6f}, TrainAcc:{:.2f}, ValAcc:{:.2f}'.format(\n",
    "#                         epoch+1, num_epochs, i+1, len(train_loader), loss, loss_val, acc_train, acc_val))\n",
    "    loss_val, acc_val = test_model(val_loader, model, criterion)\n",
    "    print('Epoch: [{}/{}], Validation Acc: {}'.format(epoch+1, num_epochs, acc_val))\n",
    "    if epoch > 3 and acc_val > max_val_acc:\n",
    "        max_val_acc = acc_val\n",
    "        # save best model\n",
    "        torch.save(model.state_dict(), params['best_model_name'])\n"
   ]
  },
  {
   "cell_type": "code",
   "execution_count": 79,
   "metadata": {},
   "outputs": [
    {
     "data": {
      "text/plain": [
       "model_with_CNN(\n",
       "  (embedding): Embedding(21008, 300)\n",
       "  (pre_conv1): Conv1d(300, 200, kernel_size=(2,), stride=(1,))\n",
       "  (pre_conv2): Conv1d(200, 200, kernel_size=(2,), stride=(1,))\n",
       "  (hy_conv1): Conv1d(300, 200, kernel_size=(2,), stride=(1,))\n",
       "  (hy_conv2): Conv1d(200, 200, kernel_size=(2,), stride=(1,))\n",
       "  (dropout): Dropout(p=0)\n",
       "  (linear1): Linear(in_features=400, out_features=100, bias=True)\n",
       "  (linear2): Linear(in_features=100, out_features=3, bias=True)\n",
       ")"
      ]
     },
     "execution_count": 79,
     "metadata": {},
     "output_type": "execute_result"
    }
   ],
   "source": [
    "# load model\n",
    "best_model = model_with_CNN(channel_out_pre, channel_out_hy, kz_pre, kz_hy, \n",
    "                            hidden_size, drop_rate, num_classes, weights_matrix)\n",
    "best_model.load_state_dict(torch.load(params['best_model_name']))\n",
    "best_model.cuda()"
   ]
  },
  {
   "cell_type": "code",
   "execution_count": 80,
   "metadata": {},
   "outputs": [],
   "source": [
    "best_model.eval()\n",
    "predict_all = []\n",
    "for pre_batch, hy_batch, _, _, labels_batch in val_loader:\n",
    "    pre_batch, hy_batch, labels_batch = pre_batch.cuda(), hy_batch.cuda(), labels_batch.cuda()\n",
    "    outputs = best_model(pre_batch, hy_batch)\n",
    "    outputs = F.softmax(outputs, dim=1)\n",
    "    predicted = outputs.max(1, keepdim=True)[1]\n",
    "    predict_all.extend([i[0] for i in predicted.cpu().numpy()])\n",
    "predict_all = np.array(predict_all)"
   ]
  },
  {
   "cell_type": "code",
   "execution_count": 81,
   "metadata": {},
   "outputs": [
    {
     "data": {
      "text/plain": [
       "70.400000000000006"
      ]
     },
     "execution_count": 81,
     "metadata": {},
     "output_type": "execute_result"
    }
   ],
   "source": [
    "predict_rw = (predict_all == np.array(val_labels_index))\n",
    "predict_right_indices = np.where(predict_rw==True)[0]\n",
    "predict_wrong_indices = np.where(predict_rw==False)[0]\n",
    "id2label_dict = {0:'neutral', 1:'contradiction', 2:'entailment'}\n",
    "sum(predict_rw)/10"
   ]
  },
  {
   "cell_type": "code",
   "execution_count": 70,
   "metadata": {},
   "outputs": [
    {
     "name": "stdout",
     "output_type": "stream",
     "text": [
      "True label: contradiction, Predict label: contradiction\n",
      "Premise:\n",
      "Three people and a white dog are sitting in the sand on a beach .\n",
      "Hypothesis:\n",
      "Three dogs and a person are sitting in the snow .\n"
     ]
    }
   ],
   "source": [
    "# correct predictions\n",
    "i = 5\n",
    "n = predict_right_indices[i]\n",
    "print('True label: {}, Predict label: {}'.format(id2label_dict[val_labels_index[n]], id2label_dict[predict_all[n]]))\n",
    "print('Premise:')\n",
    "print(val_premises[n])\n",
    "print('Hypothesis:')\n",
    "print(val_hypothesis[n])"
   ]
  },
  {
   "cell_type": "code",
   "execution_count": 78,
   "metadata": {},
   "outputs": [
    {
     "name": "stdout",
     "output_type": "stream",
     "text": [
      "True label: contradiction, Predict label: entailment\n",
      "Premise:\n",
      "A lone , 2-3 year old blond child in a blue jacket is putting a small black plastic item in his mouth as he kneels on a waiting room couch pointed toward the back while looking at something or someone not in the room .\n",
      "Hypothesis:\n",
      "The couch is pointed toward the front .\n"
     ]
    }
   ],
   "source": [
    "# incorrect predictions\n",
    "i = 8\n",
    "n = predict_wrong_indices[i]\n",
    "print('True label: {}, Predict label: {}'.format(id2label_dict[val_labels_index[n]], id2label_dict[predict_all[n]]))\n",
    "print('Premise:')\n",
    "print(val_premises[n])\n",
    "print('Hypothesis:')\n",
    "print(val_hypothesis[n])"
   ]
  },
  {
   "cell_type": "markdown",
   "metadata": {},
   "source": [
    "# MultiNLI"
   ]
  },
  {
   "cell_type": "code",
   "execution_count": 82,
   "metadata": {},
   "outputs": [],
   "source": [
    "# load data\n",
    "from collections import defaultdict\n",
    "def read_tsv_file_mnli(filename):\n",
    "    genre_data = {} #defaultdict(defaultdict(list))\n",
    "    with open(filename, 'r') as f:\n",
    "        reader = csv.reader(f, delimiter='\\t')\n",
    "        head_flag = True\n",
    "        for row in reader:\n",
    "            if head_flag:\n",
    "                head_flag = False\n",
    "                continue\n",
    "            genre = row[-1]\n",
    "            genre_dict = genre_data.get(genre, defaultdict(list))\n",
    "            genre_dict['premises'].append(row[0])\n",
    "            genre_dict['hypothesis'].append(row[1])\n",
    "            genre_dict['labels'].append(row[2])\n",
    "            genre_data[genre] = genre_dict\n",
    "    return genre_data\n",
    "\n",
    "def token_genre_data(genre_data, label_dict, train=False):\n",
    "    genre_tokens = {}\n",
    "    all_tokens = {}\n",
    "    for key, value in genre_data.items():\n",
    "        genre_tokens_dict = {}\n",
    "        genre_tokens_dict['premises'], pre_all_tokens = tokenize_dataset(value['premises'], train=train)\n",
    "        genre_tokens_dict['hypothesis'], hy_all_tokens = tokenize_dataset(value['hypothesis'], train=train)\n",
    "        genre_tokens_dict['labels'] = [label_dict[label] for label in value['labels']]\n",
    "        genre_tokens[key] = genre_tokens_dict\n",
    "        all_tokens[key] = pre_all_tokens + hy_all_tokens\n",
    "    return genre_tokens, all_tokens\n",
    "def transform_indices_genre(genre_tokens, token2id):\n",
    "    genre_indices = {}\n",
    "    for key, value in genre_tokens.items():\n",
    "        genre_indices_dict ={}\n",
    "        genre_indices_dict['premises'] = token2index_dataset(value['premises'], token2id)\n",
    "        genre_indices_dict['hypothesis'] = token2index_dataset(value['hypothesis'], token2id)\n",
    "        genre_indices_dict['labels'] = value['labels']\n",
    "        genre_indices[key] = genre_indices_dict\n",
    "    return genre_indices"
   ]
  },
  {
   "cell_type": "code",
   "execution_count": 83,
   "metadata": {},
   "outputs": [],
   "source": [
    "val_genre_filename = 'hw2_data/mnli_val.tsv'\n",
    "val_genre = read_tsv_file_mnli(val_genre_filename)\n",
    "val_genre.keys()\n",
    "val_tokens_genre,_ = token_genre_data(val_genre, label_dict)\n",
    "\n",
    "train_genre_filename = 'hw2_data/mnli_train.tsv'\n",
    "train_genre = read_tsv_file_mnli(train_genre_filename)\n",
    "genres = list(train_genre.keys())\n",
    "print(genres)\n",
    "train_tokens_genre, all_tokens_genre = token_genre_data(train_genre, label_dict)"
   ]
  },
  {
   "cell_type": "code",
   "execution_count": 85,
   "metadata": {},
   "outputs": [],
   "source": [
    "val_indices_genre = transform_indices_genre(val_tokens_genre, token2id)\n",
    "train_indices_genre = transform_indices_genre(train_tokens_genre, token2id)"
   ]
  },
  {
   "cell_type": "code",
   "execution_count": 86,
   "metadata": {},
   "outputs": [],
   "source": [
    "# data loader\n",
    "batch_size_genre = 100\n",
    "train_genre_loader, val_genre_loader = {}, {}\n",
    "for key in train_genre.keys():\n",
    "    train = (train_indices_genre[key]['premises'], train_indices_genre[key]['hypothesis'])\n",
    "    val = (val_indices_genre[key]['premises'], val_indices_genre[key]['hypothesis'])\n",
    "    train_genre_loader[key], val_genre_loader[key] = create_dataset_obj(train,val,\n",
    "                                                                        train_tokens_genre[key]['labels'],\n",
    "                                                                        val_tokens_genre[key]['labels'],\n",
    "                                                                        batch_size_genre, 150, 60,\n",
    "                                                                        newsgroup_collate_func)"
   ]
  },
  {
   "cell_type": "code",
   "execution_count": 87,
   "metadata": {},
   "outputs": [
    {
     "name": "stdout",
     "output_type": "stream",
     "text": [
      "telephone (1.0872392437674783, 49.45273631840796)\n",
      "fiction (1.2044658184051513, 48.54271356783919)\n",
      "slate (1.1502123041586443, 46.30738522954092)\n",
      "government (1.1420128670605747, 47.73622047244095)\n",
      "travel (1.1943130850791932, 46.94501018329939)\n"
     ]
    }
   ],
   "source": [
    "# evaluation\n",
    "for key in train_genre.keys():\n",
    "    print(key, test_model(val_genre_loader[key], best_model, criterion))"
   ]
  },
  {
   "cell_type": "markdown",
   "metadata": {},
   "source": [
    "### Fine Tuning"
   ]
  },
  {
   "cell_type": "code",
   "execution_count": 98,
   "metadata": {},
   "outputs": [
    {
     "name": "stdout",
     "output_type": "stream",
     "text": [
      "travel rnn_genre_travel.pt\n",
      "1/10, Step: 1/40, TrainLoss:1.102804, ValLoss:1.156977, TrainAcc:66.00, ValAcc:46.95\n",
      "1/10, Step: 11/40, TrainLoss:1.035465, ValLoss:1.029079, TrainAcc:48.00, ValAcc:50.00\n",
      "1/10, Step: 21/40, TrainLoss:1.076872, ValLoss:1.019344, TrainAcc:50.00, ValAcc:52.34\n",
      "1/10, Step: 31/40, TrainLoss:0.990508, ValLoss:0.996992, TrainAcc:51.00, ValAcc:50.10\n",
      "Epoch:1/10, genre:telephone, Validation Acc: 51.04477611940298\n",
      "Epoch:1/10, genre:fiction, Validation Acc: 48.54271356783919\n",
      "Epoch:1/10, genre:slate, Validation Acc: 49.50099800399202\n",
      "Epoch:1/10, genre:government, Validation Acc: 53.1496062992126\n",
      "Epoch:1/10, genre:travel, Validation Acc: 52.13849287169043\n",
      "2/10, Step: 1/40, TrainLoss:0.871825, ValLoss:0.982503, TrainAcc:61.00, ValAcc:52.24\n",
      "2/10, Step: 11/40, TrainLoss:0.957464, ValLoss:0.982035, TrainAcc:50.00, ValAcc:51.83\n",
      "2/10, Step: 21/40, TrainLoss:0.798371, ValLoss:0.990987, TrainAcc:66.00, ValAcc:52.55\n",
      "2/10, Step: 31/40, TrainLoss:0.882280, ValLoss:0.980768, TrainAcc:60.00, ValAcc:53.46\n",
      "Epoch:2/10, genre:telephone, Validation Acc: 51.04477611940298\n",
      "Epoch:2/10, genre:fiction, Validation Acc: 48.84422110552764\n",
      "Epoch:2/10, genre:slate, Validation Acc: 49.600798403193615\n",
      "Epoch:2/10, genre:government, Validation Acc: 53.838582677165356\n",
      "Epoch:2/10, genre:travel, Validation Acc: 54.073319755600814\n"
     ]
    }
   ],
   "source": [
    "num_epoch_genre = 2\n",
    "\n",
    "model = model_with_CNN(channel_out_pre, channel_out_hy, kz_pre, kz_hy, \n",
    "                        hidden_size, drop_rate, num_classes, weights_matrix)\n",
    "model.load_state_dict(torch.load(params['best_model_name']))\n",
    "model.cuda()\n",
    "\n",
    "optimizer = torch.optim.Adam(model.parameters(), lr=0.001)\n",
    "\n",
    "key = genres[4]\n",
    "model_path = 'rnn_genre_' +key+'.pt'\n",
    "print(key, model_path)\n",
    "train_genre_loader_one = train_genre_loader[key]\n",
    "val_genre_loader_one = val_genre_loader[key]\n",
    "\n",
    "train_loss_list = []\n",
    "train_acc_list = []\n",
    "val_loss_list = []\n",
    "val_acc_list = []\n",
    "max_val_acc = 0\n",
    "\n",
    "for epoch in range(num_epoch_genre):\n",
    "    for i, (pre_batch, hy_batch, _, _, labels_batch) in enumerate(train_genre_loader_one):\n",
    "        pre_batch, hy_batch, labels_batch = pre_batch.cuda(), hy_batch.cuda(), labels_batch.cuda()\n",
    "        model.train()\n",
    "        optimizer.zero_grad()\n",
    "        outputs = model(pre_batch, hy_batch)\n",
    "        loss = criterion(outputs, labels_batch)\n",
    "        loss.backward()\n",
    "        optimizer.step()\n",
    "        # validate every 100 iterations\n",
    "        if i % 10 == 0:\n",
    "            # validate\n",
    "            train_loss_list.append(loss.item())\n",
    "            acc_train = compute_train_acc_batch(pre_batch, hy_batch, labels_batch, model)\n",
    "            train_acc_list.append(acc_train)\n",
    "            loss_val, acc_val = test_model(val_genre_loader_one, model, criterion)\n",
    "            val_loss_list.append(loss_val)\n",
    "            val_acc_list.append(acc_val)\n",
    "            if i % 10 == 0:\n",
    "                print('{}/{}, Step: {}/{}, TrainLoss:{:.6f}, ValLoss:{:.6f}, TrainAcc:{:.2f}, ValAcc:{:.2f}'.format(\n",
    "                    epoch+1, num_epochs, i+1, len(train_genre_loader_one), loss, loss_val, acc_train, acc_val))\n",
    "    for key in genres:\n",
    "        loss_val, acc_val = test_model(val_genre_loader[key], model, criterion)\n",
    "        print('Epoch:{}/{}, genre:{}, Validation Acc: {}'.format(epoch+1, num_epochs, key, acc_val))\n",
    "    if epoch > 3 and acc_val > max_val_acc:\n",
    "        max_val_acc = acc_val\n",
    "        # save best model\n",
    "        torch.save(model.state_dict(), params['best_model_name'])"
   ]
  },
  {
   "cell_type": "code",
   "execution_count": null,
   "metadata": {},
   "outputs": [],
   "source": []
  }
 ],
 "metadata": {
  "kernelspec": {
   "display_name": "Python 3",
   "language": "python",
   "name": "python3"
  },
  "language_info": {
   "codemirror_mode": {
    "name": "ipython",
    "version": 3
   },
   "file_extension": ".py",
   "mimetype": "text/x-python",
   "name": "python",
   "nbconvert_exporter": "python",
   "pygments_lexer": "ipython3",
   "version": "3.6.3"
  }
 },
 "nbformat": 4,
 "nbformat_minor": 2
}
