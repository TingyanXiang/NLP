{
 "cells": [
  {
   "cell_type": "code",
   "execution_count": 1,
   "metadata": {},
   "outputs": [],
   "source": [
    "import numpy as np\n",
    "import torch\n",
    "import torch.nn as nn\n",
    "import torch.nn.functional as F\n",
    "from torch.utils.data import Dataset\n",
    "import csv\n",
    "import string\n",
    "from collections import Counter\n",
    "import matplotlib.pyplot as plt\n",
    "from functools import partial\n",
    "import io\n",
    "import pickle as pkl"
   ]
  },
  {
   "cell_type": "markdown",
   "metadata": {},
   "source": [
    "# SNLI"
   ]
  },
  {
   "cell_type": "code",
   "execution_count": 56,
   "metadata": {},
   "outputs": [],
   "source": [
    "# load pretrained embedding from files\n",
    "def load_emb_vectors(fname):\n",
    "    fin = io.open(fname, 'r', encoding='utf-8', newline='\\n', errors='ignore')\n",
    "    n, d = map(int, fin.readline().split())\n",
    "    data = {}\n",
    "    for line in fin:\n",
    "        tokens = line.rstrip().split(' ')\n",
    "        data[tokens[0]] = np.array(list(map(float, tokens[1:])))\n",
    "    return data\n",
    "fname = 'wiki-news-300d-1M.vec'\n",
    "words_emb_dict = load_emb_vectors(fname)"
   ]
  },
  {
   "cell_type": "code",
   "execution_count": 2,
   "metadata": {},
   "outputs": [],
   "source": [
    "# read data from tsv\n",
    "def read_tsv_file(filename):\n",
    "    premises = []\n",
    "    hypothesis = []\n",
    "    labels = []\n",
    "    with open(filename, 'r') as f:\n",
    "        reader = csv.reader(f, delimiter='\\t')\n",
    "        for row in reader:\n",
    "            premises.append(row[0])\n",
    "            hypothesis.append(row[1])\n",
    "            labels.append(row[2])\n",
    "    premises = premises[1:]\n",
    "    hypothesis = hypothesis[1:]\n",
    "    labels = labels[1:]\n",
    "    return premises, hypothesis, labels"
   ]
  },
  {
   "cell_type": "code",
   "execution_count": 3,
   "metadata": {},
   "outputs": [],
   "source": [
    "train_name = 'hw2_data/snli_train.tsv'\n",
    "train_premises, train_hypothesis, train_labels = read_tsv_file(train_name)\n",
    "\n",
    "val_name = 'hw2_data/snli_val.tsv'\n",
    "val_premises, val_hypothesis, val_labels = read_tsv_file(val_name)"
   ]
  },
  {
   "cell_type": "code",
   "execution_count": 5,
   "metadata": {},
   "outputs": [],
   "source": [
    "# tokenize data\n",
    "def tokenize_sentence(sent):\n",
    "    tokens = sent.strip().split(' ')\n",
    "    return tokens\n",
    "# [token.lower() for token in tokens if (token not in punctuations)]\n",
    "\n",
    "def tokenize_dataset(dataset, train=False):\n",
    "    dataset_token = []\n",
    "    all_tokens = []\n",
    "    for item in dataset:\n",
    "        item_tokens = tokenize_sentence(item)\n",
    "        dataset_token.append(item_tokens)\n",
    "        if train:\n",
    "            all_tokens.extend(item_tokens)\n",
    "    return dataset_token, all_tokens"
   ]
  },
  {
   "cell_type": "code",
   "execution_count": 6,
   "metadata": {},
   "outputs": [],
   "source": [
    "train_premises_tokens, premises_all_tokens = tokenize_dataset(train_premises, train=True)\n",
    "train_hypothesis_tokens, hypotheis_all_tokens = tokenize_dataset(train_hypothesis, train=True)\n",
    "train_all_tokens = premises_all_tokens + hypotheis_all_tokens\n",
    "\n",
    "val_premises_tokens, _ = tokenize_dataset(val_premises, train=False)\n",
    "val_hypothesis_tokens, _= tokenize_dataset(val_hypothesis, train=False)"
   ]
  },
  {
   "cell_type": "code",
   "execution_count": 8,
   "metadata": {},
   "outputs": [
    {
     "name": "stdout",
     "output_type": "stream",
     "text": [
      "min:1, max:41\n"
     ]
    },
    {
     "data": {
      "image/png": "[encoded data removed]",
      "text/plain": [
       "<matplotlib.figure.Figure at 0x2b24e4ae0588>"
      ]
     },
     "metadata": {},
     "output_type": "display_data"
    }
   ],
   "source": [
    "# length statistics \n",
    "length_sent = []\n",
    "for sample in train_hypothesis_tokens:\n",
    "    length_sent.append(len(sample))\n",
    "def plot_length_freq(data):\n",
    "    plt.hist(data, bins=50) #np.arange(min(data), max(data)+1)\n",
    "    plt.title('freq of length of reviews')\n",
    "    print('min:{0}, max:{1}'.format(min(data), max(data)))\n",
    "plot_length_freq(length_sent)"
   ]
  },
  {
   "cell_type": "code",
   "execution_count": 9,
   "metadata": {},
   "outputs": [],
   "source": [
    "# convert token to id in the dataset\n",
    "def token2index_dataset(tokens_data, token2id):\n",
    "    UNK_IDX = 1\n",
    "    indices_data = []\n",
    "    for tokens in tokens_data:\n",
    "        index_list = [token2id[token] if token in token2id else UNK_IDX for token in tokens]\n",
    "        indices_data.append(index_list)\n",
    "    return indices_data\n",
    "\n",
    "# load vocab and embeddings\n",
    "token2id = pkl.load(open(\"hw2_data/token2id.p\", \"rb\"))\n",
    "id2token = pkl.load(open(\"hw2_data/id2token.p\", \"rb\"))\n",
    "emb_weight = pkl.load(open(\"hw2_data/embedding_weight.p\", \"rb\"))"
   ]
  },
  {
   "cell_type": "code",
   "execution_count": 11,
   "metadata": {},
   "outputs": [],
   "source": [
    "train_premises_index = token2index_dataset(train_premises_tokens, token2id)\n",
    "train_hypothesis_index = token2index_dataset(train_hypothesis_tokens, token2id)\n",
    "\n",
    "val_premises_index = token2index_dataset(val_premises_tokens, token2id)\n",
    "val_hypothesis_index = token2index_dataset(val_hypothesis_tokens, token2id)"
   ]
  },
  {
   "cell_type": "code",
   "execution_count": 67,
   "metadata": {},
   "outputs": [],
   "source": [
    "#Build vovab and embedding matrix according to vocab\n",
    "def build_vocab(all_tokens, max_vocab_size):\n",
    "    # Returns:\n",
    "    # id2token: list of tokens, where id2token[i] returns token that corresponds to token i\n",
    "    # token2id: dictionary where keys represent tokens and corresponding values represent indices\n",
    "    PAD_IDX = 0\n",
    "    UNK_IDX = 1\n",
    "    token_counter = Counter(all_tokens)\n",
    "    print('The number of tokens totally: ', len(token_counter))\n",
    "    vocab, count = zip(*token_counter.most_common(max_vocab_size))\n",
    "    id2token = list(vocab)\n",
    "    token2id = dict(zip(vocab, range(2,2+len(vocab)))) \n",
    "    id2token = ['<pad>', '<unk>'] + id2token\n",
    "    token2id['<pad>'] = PAD_IDX \n",
    "    token2id['<unk>'] = UNK_IDX\n",
    "    return token2id, id2token\n",
    "token2id, id2token = build_vocab(train_all_tokens, max_vocab_size=30000)\n",
    "\n",
    "def build_emb_weight(words_emb_dict, id2token):\n",
    "    vocab_size = len(id2token)\n",
    "    emb_weight = np.zeros([vocab_size, 300])\n",
    "    for i in range(2,vocab_size):\n",
    "        emb = words_emb_dict.get(id2token[i], None)\n",
    "        if emb is not None:\n",
    "            emb_weight[i] = emb\n",
    "    return emb_weight\n",
    "\n",
    "emb_weight = build_emb_weight(words_emb_dict, id2token)\n",
    "\n",
    "# dump data about vocab and embedding\n",
    "pkl.dump(token2id, open(\"hw2_data/token2id.p\", \"wb\"))\n",
    "pkl.dump(id2token, open(\"hw2_data/id2token.p\", \"wb\"))\n",
    "pkl.dump(emb_weight, open(\"hw2_data/embedding_weight.p\", \"wb\"))"
   ]
  },
  {
   "cell_type": "code",
   "execution_count": 12,
   "metadata": {},
   "outputs": [],
   "source": [
    "# transform labels\n",
    "label_dict = {'neutral': 0, 'contradiction': 1, 'entailment': 2}\n",
    "train_labels_index = [label_dict[label] for label in train_labels]\n",
    "val_labels_index = [label_dict[label] for label in val_labels]"
   ]
  },
  {
   "cell_type": "code",
   "execution_count": 13,
   "metadata": {},
   "outputs": [],
   "source": [
    "class NewsGroupDataset(Dataset):\n",
    "    \"\"\"\n",
    "    Class that represents a train/validation/test dataset that's readable for PyTorch\n",
    "    Note that this class inherits torch.utils.data.Dataset\n",
    "    \"\"\"\n",
    "    \n",
    "    def __init__(self, premises_list, hypothesis_list, labels_list, max_length_pre, max_length_hy):\n",
    "        \"\"\"\n",
    "        @param data_list: list of newsgroup tokens \n",
    "        @param target_list: list of newsgroup targets \n",
    "\n",
    "        \"\"\"\n",
    "        self.premises_list = premises_list\n",
    "        self.hypothesis_list = hypothesis_list\n",
    "        self.labels_list = labels_list\n",
    "        self.max_length_pre = max_length_pre\n",
    "        self.max_length_hy = max_length_hy\n",
    "        assert (len(self.premises_list) == len(self.labels_list))\n",
    "        assert (len(self.hypothesis_list) == len(self.labels_list))\n",
    "\n",
    "    def __len__(self):\n",
    "        return len(self.premises_list)\n",
    "        \n",
    "    def __getitem__(self, key):\n",
    "        \"\"\"\n",
    "        Triggered when you call dataset[i]\n",
    "        \"\"\"\n",
    "        premises_idx = self.premises_list[key][:self.max_length_pre]\n",
    "        hypothesis_idx = self.hypothesis_list[key][:self.max_length_hy]\n",
    "        label = self.labels_list[key]\n",
    "        return [premises_idx, hypothesis_idx, label]\n",
    "\n",
    "def newsgroup_collate_func(batch):\n",
    "    \"\"\"\n",
    "    Customized function for DataLoader that dynamically pads the batch so that all \n",
    "    data have the same length\n",
    "    \"\"\"\n",
    "    premises_list = []\n",
    "    hypothesis_list = []\n",
    "    label_list = []\n",
    "    len_pre_list = []\n",
    "    len_hy_list = []\n",
    "    for datum in batch:\n",
    "        label_list.append(datum[2])\n",
    "        len_pre = len(datum[0])\n",
    "        len_hy = len(datum[1])\n",
    "        len_pre_list.append(len_pre)\n",
    "        len_hy_list.append(len_hy)\n",
    "    sort_indices_pre = np.argsort(len_pre_list)[::-1].copy()\n",
    "    sort_indices_hy = np.argsort(len_hy_list)[::-1].copy()\n",
    "    args_indices_pre = np.argsort(sort_indices_pre).copy()\n",
    "    args_indices_hy = np.argsort(sort_indices_hy).copy()\n",
    "    max_length_pre = max(len_pre_list)\n",
    "    max_length_hy = max(len_hy_list)\n",
    "    for idx, datum in enumerate(batch):\n",
    "    # padding\n",
    "        padded_pre = np.pad(np.array(datum[0]), \n",
    "                                pad_width=((0,max_length_pre-len_pre_list[idx])), \n",
    "                                mode=\"constant\", constant_values=0)\n",
    "        premises_list.append(padded_pre)\n",
    "        padded_hy = np.pad(np.array(datum[1]), \n",
    "                                pad_width=((0,max_length_hy-len_hy_list[idx])), \n",
    "                                mode=\"constant\", constant_values=0)\n",
    "        hypothesis_list.append(padded_hy)\n",
    "    return [torch.from_numpy(np.array(premises_list)), \n",
    "            torch.from_numpy(np.array(hypothesis_list)),\n",
    "            sorted(len_pre_list, reverse=True),\n",
    "            sorted(len_hy_list, reverse=True),\n",
    "            (torch.LongTensor(sort_indices_pre), torch.LongTensor(args_indices_pre)),\n",
    "            (torch.LongTensor(sort_indices_hy), torch.LongTensor(args_indices_hy)),\n",
    "            torch.LongTensor(label_list)]\n",
    "\n",
    "def create_dataset_obj(train,val,train_targets,val_targets,BATCH_SIZE,\n",
    "                       max_len_pre,max_len_hy,newsgroup_collate_func):\n",
    "    train_dataset = NewsGroupDataset(train[0], train[1], train_targets, max_len_pre, max_len_hy)\n",
    "    # premises_list, hypothesis_list, labels_list, max_length_pre, max_length_hy\n",
    "    train_loader = torch.utils.data.DataLoader(dataset=train_dataset, \n",
    "                                               batch_size=BATCH_SIZE,\n",
    "                                               collate_fn=newsgroup_collate_func,\n",
    "                                               shuffle=True)\n",
    "\n",
    "    val_dataset = NewsGroupDataset(val[0], val[1], val_targets, max_len_pre, max_len_hy)\n",
    "    val_loader = torch.utils.data.DataLoader(dataset=val_dataset, \n",
    "                                               batch_size=BATCH_SIZE,\n",
    "                                               collate_fn=newsgroup_collate_func,\n",
    "                                               shuffle=False)\n",
    "    return train_loader, val_loader"
   ]
  },
  {
   "cell_type": "code",
   "execution_count": 50,
   "metadata": {},
   "outputs": [],
   "source": [
    "def create_emb_layer(weights_matrix, trainable=False):\n",
    "    'pretrained embedding layer'\n",
    "    vocab_size, emb_dim = weights_matrix.size()\n",
    "    emb_layer = nn.Embedding(vocab_size, emb_dim)\n",
    "    emb_layer.load_state_dict({'weight': weights_matrix})\n",
    "    if trainable == False:\n",
    "        emb_layer.weight.requires_grad = False\n",
    "    return emb_layer, vocab_size, emb_dim\n",
    "\n",
    "class model_with_RNN(nn.Module):\n",
    "    def __init__(self, hidden_size_pre, hidden_size_hy, hidden_size, \n",
    "                 drop_rate, num_classes, weights_matrix):\n",
    "\n",
    "        super(model_with_RNN, self).__init__()\n",
    "\n",
    "        self.hidden_size_pre, self.hidden_size_hy = hidden_size_pre, hidden_size_hy\n",
    "        self.embedding, vocab_size, emb_dim = create_emb_layer(weights_matrix, trainable=False)\n",
    "        \n",
    "        # module for premise\n",
    "        self.pre_rnn = nn.GRU(emb_dim, hidden_size_pre, batch_first=True, bidirectional=True)\n",
    "        \n",
    "        # module for hypothesis\n",
    "        self.hy_rnn = self.pre_rnn\n",
    "        # nn.GRU(emb_dim, hidden_size_hy, batch_first=True, bidirectional=True)\n",
    "        \n",
    "        # module for interaction\n",
    "        self.dropout = nn.Dropout(drop_rate)\n",
    "        self.linear1 = nn.Linear((hidden_size_pre+hidden_size_hy)*2, hidden_size)\n",
    "        self.linear2 = nn.Linear(hidden_size, num_classes)\n",
    "\n",
    "    def forward(self, pre, hy, pre_len, hy_len, indices_pre, indices_hy):\n",
    "        #module for premise\n",
    "        embed = self.embedding(pre)\n",
    "        embed = torch.index_select(embed, 0, indices_pre[0])\n",
    "        embed = nn.utils.rnn.pack_padded_sequence(embed, pre_len, batch_first=True)\n",
    "        output_rnn, hidden_rnn = self.pre_rnn(embed)\n",
    "        hidden_rnn = torch.index_select(hidden_rnn, 1, indices_pre[1])\n",
    "        #print(hidden_rnn.size())\n",
    "        output_pre = torch.cat([hidden_rnn[0,:,:], hidden_rnn[1,:,:]], 1)\n",
    "        \n",
    "        \n",
    "        #module for hypothesis\n",
    "        embed = self.embedding(hy)\n",
    "        embed = torch.index_select(embed, 0, indices_hy[0])\n",
    "        embed = nn.utils.rnn.pack_padded_sequence(embed, hy_len, batch_first=True)\n",
    "        output_rnn, hidden_rnn = self.hy_rnn(embed)\n",
    "        hidden_rnn = torch.index_select(hidden_rnn, 1, indices_hy[1])\n",
    "        output_hy = torch.cat([hidden_rnn[0,:,:], hidden_rnn[1,:,:]], 1)\n",
    "        #print(output_hy.size())\n",
    "        \n",
    "        hidden_cat = torch.cat((output_pre, output_hy), 1)\n",
    "        #print(hidden_cat.size())\n",
    "        \n",
    "        # full connected layers\n",
    "        hidden_cat = self.dropout(hidden_cat)\n",
    "        hidden = self.linear1(hidden_cat)\n",
    "        hidden = F.relu(hidden)\n",
    "        logits = self.linear2(hidden)\n",
    "        #print(logits.size())\n",
    "        return logits\n",
    "    \n",
    "def test_model(loader, model, criterion):\n",
    "    \"\"\"\n",
    "    Help function that tests the model's performance on a dataset\n",
    "    @param: loader - data loader for the dataset to test against\n",
    "    \"\"\"\n",
    "    correct = 0\n",
    "    total = 0\n",
    "    loss = []\n",
    "    model.eval()\n",
    "    for pre_batch, hy_batch, pre_len_batch, hy_len_batch, indices_pre, indices_hy, labels_batch in loader:\n",
    "        pre_batch, hy_batch, labels_batch = pre_batch.cuda(), hy_batch.cuda(), labels_batch.cuda()\n",
    "        indices_pre, indices_hy = (indices_pre[0].cuda(), indices_pre[1].cuda()), (indices_hy[0].cuda(), indices_hy[1].cuda())\n",
    "        outputs = model(pre_batch, hy_batch, pre_len_batch, hy_len_batch, indices_pre, indices_hy)\n",
    "        loss.append((criterion(outputs, labels_batch)).item())\n",
    "        outputs = F.softmax(outputs, dim=1)\n",
    "        predicted = outputs.max(1, keepdim=True)[1]\n",
    "        \n",
    "        total += labels_batch.size(0)\n",
    "        correct += predicted.eq(labels_batch.cuda().view_as(predicted)).sum().item()\n",
    "    return np.mean(loss), (100 * correct / total)\n",
    "\n",
    "def compute_train_acc_batch(pre_batch, hy_batch, pre_len_batch, hy_len_batch, \n",
    "                            indices_pre, indices_hy, labels_batch, model):\n",
    "    outputs = model(pre_batch, hy_batch, pre_len_batch, hy_len_batch, indices_pre, indices_hy)\n",
    "    outputs = F.softmax(outputs, dim=1)\n",
    "    predicted = outputs.max(1, keepdim=True)[1]\n",
    "    acc = predicted.eq(labels_batch.view_as(predicted)).sum().item()/predicted.size(0)\n",
    "    return 100*acc"
   ]
  },
  {
   "cell_type": "code",
   "execution_count": 265,
   "metadata": {},
   "outputs": [],
   "source": [
    "params = {\n",
    "    'learning_rate': 0.001,\n",
    "    'num_epochs': 10,\n",
    "    'batch_size': 100,\n",
    "    'best_model_name': 'best_rnn_1.pt',\n",
    "    \n",
    "    'hidden_size_pre': 100, \n",
    "    'hidden_size_hy': 100,\n",
    "    'hidden_size': 100,\n",
    "    'drop_rate': 0.2,\n",
    "    \n",
    "    'max_len_pre': 98,\n",
    "    'max_len_hy': 41,\n",
    "    \n",
    "    'train': (train_premises_index,train_hypothesis_index),\n",
    "    'val': (val_premises_index,val_hypothesis_index),\n",
    "    'train_targets': train_labels_index,\n",
    "    'val_targets': val_labels_index\n",
    "}"
   ]
  },
  {
   "cell_type": "code",
   "execution_count": null,
   "metadata": {},
   "outputs": [],
   "source": [
    "def train_model(params):\n",
    "    BATCH_SIZE = params['batch_size']\n",
    "    max_len_pre = params['max_len_pre']\n",
    "    max_len_hy = params['max_len_hy']\n",
    "    train = params['train']\n",
    "    val = params['val']\n",
    "    train_targets = params['train_targets']\n",
    "    val_targets = params['val_targets']\n",
    "    dropout = params['drop_rate']\n",
    "    drop_rate = params['drop_rate']\n",
    "    train_loader, val_loader = create_dataset_obj(train,val,train_targets,val_targets,\n",
    "                                                  BATCH_SIZE,max_len_pre,max_len_hy,\n",
    "                                                  newsgroup_collate_func)\n",
    "    # build model\n",
    "    hidden_size_pre = params['hidden_size_pre']\n",
    "    hidden_size_hy = params['hidden_size_hy']\n",
    "    hidden_size = params['hidden_size']\n",
    "    num_classes = 3\n",
    "    weights_matrix = torch.from_numpy(emb_weight)\n",
    "    model = model_with_RNN(hidden_size_pre, hidden_size_hy, hidden_size, \n",
    "                           drop_rate, num_classes, weights_matrix)\n",
    "    model_parameters = filter(lambda p: p.requires_grad, model.parameters())\n",
    "    trainable_params_num = sum([np.prod(p.size()) for p in model_parameters])\n",
    "    print('The number of train parameters', trainable_params_num)\n",
    "\n",
    "    model.cuda()\n",
    "\n",
    "    #parameter for training\n",
    "    learning_rate = params['learning_rate']\n",
    "    num_epochs = params['num_epochs'] # number epoch to train\n",
    "\n",
    "    # Criterion and Optimizer\n",
    "    criterion = torch.nn.CrossEntropyLoss()\n",
    "    optimizer = torch.optim.Adam(model.parameters(), lr=learning_rate)\n",
    "\n",
    "    train_loss_list = []\n",
    "    train_acc_list = []\n",
    "    val_loss_list = []\n",
    "    val_acc_list = []\n",
    "    max_val_acc = 0\n",
    "\n",
    "    for epoch in range(num_epochs):\n",
    "        for i, (pre_batch, hy_batch, pre_len_batch, hy_len_batch, indices_pre, indices_hy, labels_batch) in enumerate(train_loader):\n",
    "            pre_batch, hy_batch, labels_batch = pre_batch.cuda(), hy_batch.cuda(), labels_batch.cuda()\n",
    "            indices_pre, indices_hy = (indices_pre[0].cuda(), indices_pre[1].cuda()), (indices_hy[0].cuda(), indices_hy[1].cuda())\n",
    "            model.train()\n",
    "            optimizer.zero_grad()\n",
    "            outputs = model(pre_batch, hy_batch, pre_len_batch, hy_len_batch, indices_pre, indices_hy)\n",
    "            loss = criterion(outputs, labels_batch)\n",
    "            loss.backward()\n",
    "            optimizer.step()\n",
    "            # validate every 100 iterations\n",
    "            if i % 100 == 0:\n",
    "                # validate\n",
    "                train_loss_list.append(loss.item())\n",
    "                acc_train = compute_train_acc_batch(pre_batch, hy_batch, pre_len_batch, \n",
    "                                                    hy_len_batch, indices_pre, indices_hy, \n",
    "                                                    labels_batch, model)\n",
    "                train_acc_list.append(acc_train)\n",
    "                loss_val, acc_val = test_model(val_loader, model, criterion)\n",
    "                val_loss_list.append(loss_val)\n",
    "                val_acc_list.append(acc_val)\n",
    "#                 if i % 100 == 0:\n",
    "#                     print('{}/{}, Step:{}/{}, TrainLoss:{:.6f}, ValLoss:{:.6f}, TrainAcc:{}, ValAcc:{}'.format(\n",
    "#                         epoch+1, num_epochs, i+1, len(train_loader), loss, loss_val, acc_train, acc_val))\n",
    "        loss_val, acc_val = test_model(val_loader, model, criterion)\n",
    "        print('Epoch: [{}/{}], Validation Acc: {}'.format(epoch+1, num_epochs, acc_val))\n",
    "        if epoch > 3 and acc_val > max_val_acc:\n",
    "            max_val_acc = acc_val\n",
    "            # save best model\n",
    "            # model.save_state_dict(params['best_model_name'])\n",
    "            # model.load_state_dict(torch.load('mytraining.pt'))\n",
    "    return max_val_acc, trainable_params_num, train_loss_list, train_acc_list, val_loss_list, val_acc_list"
   ]
  },
  {
   "cell_type": "code",
   "execution_count": 58,
   "metadata": {},
   "outputs": [
    {
     "name": "stdout",
     "output_type": "stream",
     "text": [
      "The number of train parameters 281603\n",
      "Epoch: [1/10], Validation Acc: 60.5\n",
      "Epoch: [2/10], Validation Acc: 66.0\n",
      "Epoch: [3/10], Validation Acc: 66.8\n",
      "Epoch: [4/10], Validation Acc: 69.6\n",
      "Epoch: [5/10], Validation Acc: 69.9\n",
      "Epoch: [6/10], Validation Acc: 71.5\n",
      "Epoch: [7/10], Validation Acc: 70.7\n",
      "Epoch: [8/10], Validation Acc: 71.2\n",
      "Epoch: [9/10], Validation Acc: 72.8\n",
      "Epoch: [10/10], Validation Acc: 71.9\n"
     ]
    }
   ],
   "source": [
    "result2 = train_model(params)"
   ]
  },
  {
   "cell_type": "code",
   "execution_count": 61,
   "metadata": {},
   "outputs": [
    {
     "name": "stdout",
     "output_type": "stream",
     "text": [
      "72.7 72.8 70.7\n",
      "281603 281603 281603\n"
     ]
    },
    {
     "data": {
      "image/png": "[encoded data removed]",
      "text/plain": [
       "<matplotlib.figure.Figure at 0x2b2513e8fef0>"
      ]
     },
     "metadata": {},
     "output_type": "display_data"
    },
    {
     "data": {
      "image/png": "[encoded data removed]",
      "text/plain": [
       "<matplotlib.figure.Figure at 0x2b24feb63dd8>"
      ]
     },
     "metadata": {},
     "output_type": "display_data"
    }
   ],
   "source": [
    "# plot results\n",
    "max_val_acc1, params_num1, train_loss_list1, train_acc_list1, val_loss_list1, val_acc_list1 = result1\n",
    "max_val_acc2, params_num2, train_loss_list2, train_acc_list2, val_loss_list2, val_acc_list2 = result2\n",
    "max_val_acc3, params_num3, train_loss_list3, train_acc_list3, val_loss_list3, val_acc_list3 = result3\n",
    "# max_val_acc4, params_num4, train_loss_list4, train_acc_list4, val_loss_list4, val_acc_list4 = result4\n",
    "print(max_val_acc1, max_val_acc2, max_val_acc3)\n",
    "print(params_num1, params_num2, params_num3)\n",
    "\n",
    "intevel = 1\n",
    "plt.title('Loss')\n",
    "plt.plot(train_loss_list1[::10], label='1 train')\n",
    "plt.plot(train_loss_list2[::intevel], label='2 train')\n",
    "plt.plot(train_loss_list3[::intevel], label='3 train')\n",
    "plt.plot(val_loss_list1[::10], label='1 val')\n",
    "plt.plot(val_loss_list2[::intevel], label='2 val')\n",
    "plt.plot(val_loss_list3[::intevel], label='3 val')\n",
    "# plt.plot(train_loss_list3[::intevel], label='3')\n",
    "# plt.plot(train_loss_list4[::intevel], label='4')\n",
    "plt.legend()\n",
    "plt.xlabel('Steps')\n",
    "plt.show()\n",
    "\n",
    "# plt.title('Val Loss')\n",
    "# plt.plot(val_loss_list1[::intevel], label='1')\n",
    "# plt.plot(val_loss_list2[::intevel], label='2')\n",
    "# plt.plot(val_loss_list3[::intevel], label='3')\n",
    "# plt.plot(val_loss_list4[::intevel], label='4')\n",
    "# plt.xlabel('Steps')\n",
    "# plt.show()\n",
    "\n",
    "plt.title('Accuracy')\n",
    "plt.plot(val_acc_list1[::10], label='1 val')\n",
    "plt.plot(train_acc_list1[::10], label='1 train')\n",
    "plt.plot(val_acc_list2[::intevel], label='2 val')\n",
    "plt.plot(train_acc_list2[::intevel], label='2 train')\n",
    "plt.plot(val_acc_list3[::intevel], label='3 val')\n",
    "plt.plot(train_acc_list3[::intevel], label='3 train')\n",
    "plt.xlabel('Steps')\n",
    "plt.legend()\n",
    "plt.show()"
   ]
  },
  {
   "cell_type": "markdown",
   "metadata": {},
   "source": [
    "### evaluation"
   ]
  },
  {
   "cell_type": "code",
   "execution_count": 71,
   "metadata": {},
   "outputs": [],
   "source": [
    "params = {\n",
    "    'learning_rate': 0.001,\n",
    "    'num_epochs': 10,\n",
    "    'batch_size': 100,\n",
    "    'best_model_name': 'best_rnn_1.pt',\n",
    "    \n",
    "    'hidden_size_pre': 100, \n",
    "    'hidden_size_hy': 100,\n",
    "    'hidden_size': 100,\n",
    "    'drop_rate': 0.2,\n",
    "    \n",
    "    'max_len_pre': 98,\n",
    "    'max_len_hy': 41,\n",
    "    \n",
    "    'train': (train_premises_index,train_hypothesis_index),\n",
    "    'val': (val_premises_index,val_hypothesis_index),\n",
    "    'train_targets': train_labels_index,\n",
    "    'val_targets': val_labels_index\n",
    "}"
   ]
  },
  {
   "cell_type": "code",
   "execution_count": 239,
   "metadata": {},
   "outputs": [
    {
     "name": "stdout",
     "output_type": "stream",
     "text": [
      "The number of train parameters 281603\n",
      "Epoch: [1/10], Validation Acc: 63.8\n",
      "Epoch: [2/10], Validation Acc: 64.2\n",
      "Epoch: [3/10], Validation Acc: 67.0\n",
      "Epoch: [4/10], Validation Acc: 68.1\n",
      "Epoch: [5/10], Validation Acc: 69.9\n",
      "Epoch: [6/10], Validation Acc: 70.5\n",
      "Epoch: [7/10], Validation Acc: 69.0\n",
      "Epoch: [8/10], Validation Acc: 70.7\n",
      "Epoch: [9/10], Validation Acc: 68.5\n",
      "Epoch: [10/10], Validation Acc: 70.7\n"
     ]
    }
   ],
   "source": [
    "# data loader\n",
    "BATCH_SIZE = params['batch_size']\n",
    "max_len_pre = params['max_len_pre']\n",
    "max_len_hy = params['max_len_hy']\n",
    "train = params['train']\n",
    "val = params['val']\n",
    "train_targets = params['train_targets']\n",
    "val_targets = params['val_targets']\n",
    "drop_rate = params['drop_rate']\n",
    "train_loader, val_loader = create_dataset_obj(train,val,train_targets,val_targets,\n",
    "                                              BATCH_SIZE,max_len_pre,max_len_hy,\n",
    "                                              newsgroup_collate_func)\n",
    "# build model\n",
    "hidden_size_pre = params['hidden_size_pre']\n",
    "hidden_size_hy = params['hidden_size_hy']\n",
    "hidden_size = params['hidden_size']\n",
    "num_classes = 3\n",
    "weights_matrix = torch.from_numpy(emb_weight)\n",
    "model = model_with_RNN(hidden_size_pre, hidden_size_hy, hidden_size, \n",
    "                       drop_rate, num_classes, weights_matrix)\n",
    "model_parameters = filter(lambda p: p.requires_grad, model.parameters())\n",
    "trainable_params_num = sum([np.prod(p.size()) for p in model_parameters])\n",
    "print('The number of train parameters', trainable_params_num)\n",
    "\n",
    "model.cuda()\n",
    "\n",
    "#parameter for training\n",
    "learning_rate = params['learning_rate']\n",
    "num_epochs = params['num_epochs'] # number epoch to train\n",
    "\n",
    "# Criterion and Optimizer\n",
    "criterion = torch.nn.CrossEntropyLoss()\n",
    "optimizer = torch.optim.Adam(model.parameters(), lr=learning_rate)\n",
    "\n",
    "train_loss_list = []\n",
    "train_acc_list = []\n",
    "val_loss_list = []\n",
    "val_acc_list = []\n",
    "max_val_acc = 0\n",
    "\n",
    "for epoch in range(num_epochs):\n",
    "    for i, (pre_batch, hy_batch, pre_len_batch, hy_len_batch, indices_pre, indices_hy, labels_batch) in enumerate(train_loader):\n",
    "        pre_batch, hy_batch, labels_batch = pre_batch.cuda(), hy_batch.cuda(), labels_batch.cuda()\n",
    "        indices_pre, indices_hy = (indices_pre[0].cuda(), indices_pre[1].cuda()), (indices_hy[0].cuda(), indices_hy[1].cuda())\n",
    "        model.train()\n",
    "        optimizer.zero_grad()\n",
    "        outputs = model(pre_batch, hy_batch, pre_len_batch, hy_len_batch, indices_pre, indices_hy)\n",
    "        loss = criterion(outputs, labels_batch)\n",
    "        loss.backward()\n",
    "        optimizer.step()\n",
    "        # validate every 100 iterations\n",
    "        if i % 100 == 0:\n",
    "            # validate\n",
    "            train_loss_list.append(loss.item())\n",
    "            acc_train = compute_train_acc_batch(pre_batch, hy_batch, pre_len_batch, \n",
    "                                                hy_len_batch, indices_pre, indices_hy, \n",
    "                                                labels_batch, model)\n",
    "            train_acc_list.append(acc_train)\n",
    "            loss_val, acc_val = test_model(val_loader, model, criterion)\n",
    "            val_loss_list.append(loss_val)\n",
    "            val_acc_list.append(acc_val)\n",
    "#                 if i % 100 == 0:\n",
    "#                     print('{}/{}, Step:{}/{}, TrainLoss:{:.6f}, ValLoss:{:.6f}, TrainAcc:{}, ValAcc:{}'.format(\n",
    "#                         epoch+1, num_epochs, i+1, len(train_loader), loss, loss_val, acc_train, acc_val))\n",
    "    loss_val, acc_val = test_model(val_loader, model, criterion)\n",
    "    print('Epoch: [{}/{}], Validation Acc: {}'.format(epoch+1, num_epochs, acc_val))\n",
    "    if epoch > 3 and acc_val > max_val_acc:\n",
    "        max_val_acc = acc_val\n",
    "        # save best model\n",
    "        torch.save({\n",
    "            'epoch': epoch,\n",
    "            'model_state_dict': model.state_dict(),\n",
    "            'optimizer_state_dict': optimizer.state_dict(),\n",
    "            'loss': loss\n",
    "            }, params['best_model_name'])\n",
    "        # torch.save(model, params['best_model_name'])\n",
    "        #model.load_state_dict(torch.load(params['best_model_name']))"
   ]
  },
  {
   "cell_type": "code",
   "execution_count": 243,
   "metadata": {},
   "outputs": [
    {
     "data": {
      "text/plain": [
       "model_with_RNN(\n",
       "  (embedding): Embedding(21008, 300)\n",
       "  (pre_rnn): GRU(300, 100, batch_first=True, bidirectional=True)\n",
       "  (hy_rnn): GRU(300, 100, batch_first=True, bidirectional=True)\n",
       "  (dropout): Dropout(p=0.2)\n",
       "  (linear1): Linear(in_features=400, out_features=100, bias=True)\n",
       "  (linear2): Linear(in_features=100, out_features=3, bias=True)\n",
       ")"
      ]
     },
     "execution_count": 243,
     "metadata": {},
     "output_type": "execute_result"
    }
   ],
   "source": [
    "# load model\n",
    "best_model = model_with_RNN(hidden_size_pre, hidden_size_hy, hidden_size, \n",
    "                            drop_rate, num_classes, weights_matrix)\n",
    "checkpoint = torch.load(params['best_model_name'])\n",
    "best_model.load_state_dict(checkpoint['model_state_dict'])\n",
    "best_model.cuda()\n",
    "# optimizer.load_state_dict(checkpoint['optimizer_state_dict'])\n",
    "# epoch = checkpoint['epoch']\n",
    "# loss = checkpoint['loss']"
   ]
  },
  {
   "cell_type": "code",
   "execution_count": 244,
   "metadata": {},
   "outputs": [],
   "source": [
    "best_model.eval()\n",
    "predict_all = []\n",
    "for pre_batch, hy_batch, pre_len_batch, hy_len_batch, indices_pre, indices_hy, labels_batch in val_loader:\n",
    "    pre_batch, hy_batch, labels_batch = pre_batch.cuda(), hy_batch.cuda(), labels_batch.cuda()\n",
    "    indices_pre, indices_hy = (indices_pre[0].cuda(), indices_pre[1].cuda()), (indices_hy[0].cuda(), indices_hy[1].cuda())\n",
    "    outputs = best_model(pre_batch, hy_batch, pre_len_batch, hy_len_batch, indices_pre, indices_hy)\n",
    "    outputs = F.softmax(outputs, dim=1)\n",
    "    predicted = outputs.max(1, keepdim=True)[1]\n",
    "    predict_all.extend([i[0] for i in predicted.cpu().numpy()])\n",
    "predict_all = np.array(predict_all)"
   ]
  },
  {
   "cell_type": "code",
   "execution_count": 245,
   "metadata": {},
   "outputs": [],
   "source": [
    "predict_rw = (predict_all == np.array(val_labels_index))\n",
    "predict_right_indices = np.where(predict_rw==True)[0]\n",
    "predict_wrong_indices = np.where(predict_rw==False)[0]\n",
    "id2label_dict = {0:'neutral', 1:'contradiction', 2:'entailment'}"
   ]
  },
  {
   "cell_type": "code",
   "execution_count": 247,
   "metadata": {},
   "outputs": [
    {
     "name": "stdout",
     "output_type": "stream",
     "text": [
      "True label: neutral, Predict label: neutral\n",
      "Premise:\n",
      "man grilling fish on barbecue\n",
      "Hypothesis:\n",
      "The man likes to eat fish .\n"
     ]
    }
   ],
   "source": [
    "# correct predictions\n",
    "i = 18\n",
    "n = predict_right_indices[i]\n",
    "print('True label: {}, Predict label: {}'.format(id2label_dict[val_labels_index[n]], id2label_dict[predict_all[n]]))\n",
    "print('Premise:')\n",
    "print(val_premises[n])\n",
    "print('Hypothesis:')\n",
    "print(val_hypothesis[n])"
   ]
  },
  {
   "cell_type": "code",
   "execution_count": 248,
   "metadata": {},
   "outputs": [
    {
     "name": "stdout",
     "output_type": "stream",
     "text": [
      "True label: contradiction, Predict label: entailment\n",
      "Premise:\n",
      "A lone , 2-3 year old blond child in a blue jacket is putting a small black plastic item in his mouth as he kneels on a waiting room couch pointed toward the back while looking at something or someone not in the room .\n",
      "Hypothesis:\n",
      "The couch is pointed toward the front .\n"
     ]
    }
   ],
   "source": [
    "# incorrect predictions\n",
    "i = 7\n",
    "n = predict_wrong_indices[i]\n",
    "print('True label: {}, Predict label: {}'.format(id2label_dict[val_labels_index[n]], id2label_dict[predict_all[n]]))\n",
    "print('Premise:')\n",
    "print(val_premises[n])\n",
    "print('Hypothesis:')\n",
    "print(val_hypothesis[n])"
   ]
  },
  {
   "cell_type": "markdown",
   "metadata": {},
   "source": [
    "# MultiNLI"
   ]
  },
  {
   "cell_type": "code",
   "execution_count": 249,
   "metadata": {},
   "outputs": [],
   "source": [
    "# load data\n",
    "from collections import defaultdict\n",
    "def read_tsv_file_mnli(filename):\n",
    "    genre_data = {} #defaultdict(defaultdict(list))\n",
    "    with open(filename, 'r') as f:\n",
    "        reader = csv.reader(f, delimiter='\\t')\n",
    "        head_flag = True\n",
    "        for row in reader:\n",
    "            if head_flag:\n",
    "                head_flag = False\n",
    "                continue\n",
    "            genre = row[-1]\n",
    "            genre_dict = genre_data.get(genre, defaultdict(list))\n",
    "            genre_dict['premises'].append(row[0])\n",
    "            genre_dict['hypothesis'].append(row[1])\n",
    "            genre_dict['labels'].append(row[2])\n",
    "            genre_data[genre] = genre_dict\n",
    "    return genre_data\n",
    "\n",
    "def token_genre_data(genre_data, label_dict, train=False):\n",
    "    genre_tokens = {}\n",
    "    all_tokens = {}\n",
    "    for key, value in genre_data.items():\n",
    "        genre_tokens_dict = {}\n",
    "        genre_tokens_dict['premises'], pre_all_tokens = tokenize_dataset(value['premises'], train=train)\n",
    "        genre_tokens_dict['hypothesis'], hy_all_tokens = tokenize_dataset(value['hypothesis'], train=train)\n",
    "        genre_tokens_dict['labels'] = [label_dict[label] for label in value['labels']]\n",
    "        genre_tokens[key] = genre_tokens_dict\n",
    "        all_tokens[key] = pre_all_tokens + hy_all_tokens\n",
    "    return genre_tokens, all_tokens\n",
    "def transform_indices_genre(genre_tokens, token2id):\n",
    "    genre_indices = {}\n",
    "    for key, value in genre_tokens.items():\n",
    "        genre_indices_dict ={}\n",
    "        genre_indices_dict['premises'] = token2index_dataset(value['premises'], token2id)\n",
    "        genre_indices_dict['hypothesis'] = token2index_dataset(value['hypothesis'], token2id)\n",
    "        genre_indices_dict['labels'] = value['labels']\n",
    "        genre_indices[key] = genre_indices_dict\n",
    "    return genre_indices"
   ]
  },
  {
   "cell_type": "code",
   "execution_count": 178,
   "metadata": {},
   "outputs": [],
   "source": [
    "val_genre_filename = 'hw2_data/mnli_val.tsv'\n",
    "val_genre = read_tsv_file_mnli(val_genre_filename)\n",
    "val_genre.keys()\n",
    "val_tokens_genre,_ = token_genre_data(val_genre, label_dict)\n",
    "\n",
    "train_genre_filename = 'hw2_data/mnli_train.tsv'\n",
    "train_genre = read_tsv_file_mnli(train_genre_filename)\n",
    "genres = list(train_genre.keys())\n",
    "print(genres)\n",
    "train_tokens_genre, all_tokens_genre = token_genre_data(train_genre, label_dict)"
   ]
  },
  {
   "cell_type": "code",
   "execution_count": 185,
   "metadata": {},
   "outputs": [],
   "source": [
    "# transform tokens into indices\n",
    "val_indices_genre = transform_indices_genre(val_tokens_genre, token2id)\n",
    "train_indices_genre = transform_indices_genre(train_tokens_genre, token2id)"
   ]
  },
  {
   "cell_type": "code",
   "execution_count": 275,
   "metadata": {},
   "outputs": [
    {
     "name": "stdout",
     "output_type": "stream",
     "text": [
      "min:2, max:205\n"
     ]
    },
    {
     "data": {
      "image/png": "[encoded data removed]",
      "text/plain": [
       "<matplotlib.figure.Figure at 0x2b251f32cb70>"
      ]
     },
     "metadata": {},
     "output_type": "display_data"
    }
   ],
   "source": [
    "# length statistics \n",
    "length_sent = []\n",
    "for sample in val_tokens_genre['telephone']['premises']:\n",
    "    length_sent.append(len(sample))\n",
    "def plot_length_freq(data):\n",
    "    plt.hist(data, bins=50) #np.arange(min(data), max(data)+1)\n",
    "    plt.title('freq of length of reviews')\n",
    "    print('min:{0}, max:{1}'.format(min(data), max(data)))\n",
    "plot_length_freq(length_sent)"
   ]
  },
  {
   "cell_type": "code",
   "execution_count": 272,
   "metadata": {},
   "outputs": [
    {
     "data": {
      "text/plain": [
       "\"If you people only knew how fatally easy it is to poison some one by mistake , you would n't joke about it . You would n't joke about poisoning someone if you knew how easy it was to do by mistake . entailment entailment entailment entailment entailment entailment 6977 93955 93955e travel ( ( ( The ( large ( scale production ) ) ) ( of ( entertainment films ) ) ) ( ( ( ( is ( ( a phenomenon ) well ) ) worth ) ( seeing ( several times ) ) ) . ) ) ( ( Watching ( ( the ( impressive production ) ) ( of ( entertainment skills ) ) ) ) ( ( is ( something ( worth ( seeing ( many times ) ) ) ) ) . ) ) ( ROOT ( S ( NP ( NP ( DT The ) ( JJ large ) ( NN scale ) ( NN production ) ) ( PP ( IN of ) ( NP ( NN entertainment ) ( NNS films ) ) ) ) ( VP ( VBZ is ) ( ADVP ( NP ( DT a ) ( NN phenomenon ) ) ( RB well ) ) ( ADJP ( JJ worth ) ) ( S ( VP ( VBG seeing ) ( NP ( JJ several ) ( NNS times ) ) ) ) ) ( . . ) ) ) ( ROOT ( S ( S ( VP ( VBG Watching ) ( NP ( NP ( DT the ) ( JJ impressive ) ( NN production ) ) ( PP ( IN of ) ( NP ( NN entertainment ) ( NNS skills ) ) ) ) ) ) ( VP ( VBZ is ) ( NP ( NP ( NN something ) ) ( PP ( JJ worth ) ( S ( VP ( VBG seeing ) ( NP ( JJ many ) ( NNS times ) ) ) ) ) ) ) ( . . ) ) ) The large scale production of entertainment films is a phenomenon well worth seeing several times . Watching the impressive production of entertainment skills is something worth seeing many times . entailment entailment entailment entailment entailment entailment 6978 74151 74151e telephone ( well ( what ( is it ) ) ) ( ( ( Tell me ) ( what ( it is ) ) ) . ) ( ROOT ( FRAG ( ADVP ( RB well ) ) ( SBAR ( WHNP ( WP what ) ) ( S ( VP ( VBZ is ) ( NP ( PRP it ) ) ) ) ) ) ) ( ROOT ( S ( VP ( VB Tell ) ( NP ( PRP me ) ) ( SBAR ( WHNP ( WP what ) ) ( S ( NP ( PRP it ) ) ( VP ( VBZ is ) ) ) ) ) ( . . ) ) ) well what is it Tell me what it is . entailment entailment entailment entailment entailment entailment 6979 134533 134533n slate ( Where ( ( is art ) ? ) ) ( ( What ( ( is ( ( the place ) ( of art ) ) ) ? ) ) ( ( Asked ( the teacher ) ) . ) ) ( ROOT ( SBARQ ( WHADVP ( WRB Where ) ) ( SQ ( VBZ is ) ( NP ( NN art ) ) ) ( . ? ) ) ) ( ROOT ( SINV ( SBARQ ( WHNP ( WP What ) ) ( SQ ( VBZ is ) ( NP ( NP ( DT the ) ( NN place ) ) ( PP ( IN of ) ( NP ( NN art ) ) ) ) ) ( . ? ) ) ( VP ( VBD Asked ) ) ( NP ( DT the ) ( NN teacher ) ) ( . . ) ) ) Where is art ? What is the place of art ? Asked the teacher . neutral neutral neutral neutral neutral neutral 6980 9834 9834c fiction ( ( The man ) ( ( ( had probably ) ( ( ( ( heard ( him urinating ) ) or ) ( maybe even ) ) ( ( noticed ( ( the change ) ( of ( his breath ) ) ) ) ( as ( he awoke ) ) ) ) ) . ) ) ( ( The man ) ( ( ( woke up ) ( to ( sheer silence ) ) ) . ) ) ( ROOT ( S ( NP ( DT The ) ( NN man ) ) ( VP ( VBD had ) ( ADVP ( RB probably ) ) ( VP ( VP ( VBN heard ) ( S ( NP ( PRP him ) ) ( ADJP ( JJ urinating ) ) ) ) ( CC or ) ( ADVP ( RB maybe ) ( RB even ) ) ( VP ( VBN noticed ) ( NP ( NP ( DT the ) ( NN change ) ) ( PP ( IN of ) ( NP ( PRP $ his ) ( NN breath ) ) ) ) ( SBAR ( IN as ) ( S ( NP ( PRP he ) ) ( VP ( VBD awoke ) ) ) ) ) ) ) ( . . ) ) ) ( ROOT ( S ( NP ( DT The ) ( NN man ) ) ( VP ( VBD woke ) ( PRT ( RP up ) ) ( PP ( TO to ) ( NP ( JJ sheer ) ( NN silence ) ) ) ) ( . . ) ) ) The man had probably heard him urinating or maybe even noticed the change of his breath as he awoke . The man woke up to sheer silence . contradiction contradiction contradiction neutral contradiction contradiction 6981 71107 71107n fiction ( ( His arm ) ( ( ( ( ( came up ) ( over ( his eyes ) ) ) , ) ( ( cutting off ) ( the glare ) ) ) . ) ) ( ( Having ( ( been ( in ( complete darkness ) ) ) ( for hours ) ) ) ( , ( it ( ( ( ( took him ) ( a while ) ) ( to ( get ( adjusted ( to ( the sunlight ) ) ) ) ) ) . ) ) ) ) ( ROOT ( S ( NP ( PRP $ His ) ( NN arm ) ) ( VP ( VBD came ) ( PRT ( RP up ) ) ( PP ( IN over ) ( NP ( PRP $ his ) ( NNS eyes ) ) ) ( , , ) ( S ( VP ( VBG cutting ) ( PRT ( RP off ) ) ( NP ( DT the ) ( NN glare ) ) ) ) ) ( . . ) ) ) ( ROOT ( S ( S ( VP ( VBG Having ) ( VP ( VBN been ) ( PP ( IN in ) ( NP ( JJ complete ) ( NNS darkness ) ) ) ( PP ( IN for ) ( NP ( NNS hours ) ) ) ) ) ) ( , , ) ( NP ( PRP it ) ) ( VP ( VBD took ) ( NP ( PRP him ) ) ( NP ( DT a ) ( NN while ) ) ( S ( VP ( TO to ) ( VP ( VB get ) ( ADJP ( VBN adjusted ) ( PP ( TO to ) ( NP ( DT the ) ( NN sunlight ) ) ) ) ) ) ) ) ( . . ) ) ) His arm came up over his eyes , cutting off the glare . Having been in complete darkness for hours , it took him a while to get adjusted to the sunlight . neutral neutral neutral neutral neutral neutral 6982 121591 121591e travel ( ( Some travelers ) ( ( ( add ( ( Molokai and ) Lanai ) ) ( to ( their itineraries ) ) ) . ) ) ( ( Several tourists ) ( ( decide ( to ( plan ( for ( traveling ( to ( ( Molokai and ) Lanai ) ) ) ) ) ) ) . ) ) ( ROOT ( S ( NP ( DT Some ) ( NNS travelers ) ) ( VP ( VBP add ) ( NP ( NNP Molokai ) ( CC and ) ( NNP Lanai ) ) ( PP ( TO to ) ( NP ( PRP $ their ) ( NNS itineraries ) ) ) ) ( . . ) ) ) ( ROOT ( S ( NP ( JJ Several ) ( NNS tourists ) ) ( VP ( VBP decide ) ( S ( VP ( TO to ) ( VP ( VB plan ) ( PP ( IN for ) ( S ( VP ( VBG traveling ) ( PP ( TO to ) ( NP ( NNP Molokai ) ( CC and ) ( NNP Lanai ) ) ) ) ) ) ) ) ) ) ( . . ) ) ) Some travelers add Molokai and Lanai to their itineraries . Several tourists decide to plan for traveling to Molokai and Lanai . entailment entailment entailment entailment entailment entailment 6983 112950 112950n government ( ( ( ( ( ( The Saving ) Mystery ) , ) or ) ( Where ( ( Did ( the Money ) ) Go ) ) ) ? ) ( ( The money ) ( ( was spent ) . ) ) ( ROOT ( S ( S ( NP ( DT The ) ( NN Saving ) ) ( VP ( VBZ Mystery ) ) ) ( , , ) ( CC or ) ( SBARQ ( WHADVP ( WRB Where ) ) ( SQ ( VBD Did ) ( NP ( DT the ) ( NN Money ) ) ( VP ( VB Go ) ) ) ) ( . ? ) ) ) ( ROOT ( S ( NP ( DT The ) ( NN money ) ) ( VP ( VBD was ) ( VP ( VBN spent ) ) ) ( . . ) ) ) The Saving Mystery , or Where Did the Money Go ? The money was spent . neutral neutral neutral contradiction neutral neutral 6984 73723 73723e telephone ( in ( each square ) ) ( ( Inside ( every square ) ) . ) ( ROOT ( PP ( IN in ) ( NP ( DT each ) ( NN square ) ) ) ) ( ROOT ( FRAG ( PP ( IN Inside ) ( NP ( DT every ) ( NN square ) ) ) ( . . ) ) ) in each square Inside every square . entailment entailment entailment entailment entailment entailment 6985 5300 5300e slate ( -LRB- ( ( Read Slate ) ( ( 's ( on ( how ( Bush ( flaunts ( ( the courage ) ( of ( his cliches ) ) ) ) ) ) ) ) . ) ) ) ( Slate ( ( depicts ( Bush ( flaunting ( ( the courage ) ( of ( his cliches ) ) ) ) ) ) . ) ) ( ROOT ( S ( -LRB- -LRB- ) ( NP ( NNP Read ) ( NNP Slate ) ) ( VP ( VBZ 's ) ( PP ( IN on ) ( SBAR ( WHADVP ( WRB how ) ) ( S ( NP ( NNP Bush ) ) ( VP ( VBZ flaunts ) ( NP ( NP ( DT the ) ( NN courage ) ) ( PP ( IN of ) ( NP ( PRP $ his ) ( NNS cliches ) ) ) ) ) ) ) ) ) ( . . ) ) ) ( ROOT ( S ( NP ( NNP Slate ) ) ( VP ( VBZ depicts ) ( S ( NP ( NNP Bush ) ) ( VP ( VBG flaunting ) ( NP ( NP ( DT the ) ( NN courage ) ) ( PP ( IN of ) ( NP ( PRP $ his ) ( NNS cliches ) ) ) ) ) ) ) ( . . ) ) ) ( Read Slate 's on how Bush flaunts the courage of his cliches . Slate depicts Bush flaunting the courage of his cliches . entailment entailment entailment entailment entailment entailment 6986 53953 53953n telephone ( so ( who ( ( so ( if ( ( ( you ( go out ) ) and ) ( ( ( you ( 're ( talking ( like ( a ( ten ( or ( fifteen ( thousand ( dollar vehicle ) ) ) ) ) ) ) ) ) ) and ) ( you ( add ( that ( ( ( sales tax ) ( on that ) ) ( 's ( a ( that ( 's ( ( a ( big chunk ) ) ( of change ) ) ) ) ) ) ) ) ) ) ) ) ) ) ( you ( have ( to ( ( come up ) with ) ) ) ) ) ) ) ( ( The ( sales tax ) ) ( ( ( would really ) ( ( drive ( ( the price ) ( of ( the car ) ) ) ) up ) ) . ) ) ( ROOT ( FRAG ( ADVP ( RB so ) ) ( SBAR ( WHNP ( WP who ) ) ( S ( SBAR ( RB so ) ( IN if ) ( S ( S ( NP ( PRP you ) ) ( VP ( VBP go ) ( PRT ( RP out ) ) ) ) ( CC and ) ( S ( S ( NP ( PRP you ) ) ( VP ( VBP 're ) ( VP ( VBG talking ) ( PP ( IN like ) ( NP ( DT a ) ( CD ten ) ( CC or ) ( JJ fifteen ) ( CD thousand ) ( NN dollar ) ( NN vehicle ) ) ) ) ) ) ( CC and ) ( S ( NP ( PRP you ) ) ( VP ( VBP add ) ( SBAR ( IN that ) ( S ( NP ( NP ( NNS sales ) ( NN tax ) ) ( PP ( IN on ) ( NP ( DT that ) ) ) ) ( VP ( VBZ 's ) ( NP ( NP ( SYM a ) ) ( SBAR ( WHNP ( WDT that ) ) ( S ( VP ( VBZ 's ) ( NP ( NP ( DT a ) ( JJ big ) ( NN chunk ) ) ( PP ( IN of ) ( NP ( NN change ) ) ) ) ) ) ) ) ) ) ) ) ) ) ) ) ( NP ( PRP you ) ) ( VP ( VBP have ) ( S ( VP ( TO to ) ( VP ( VB come ) ( PRT ( RP up ) ) ( PP ( IN with ) ) ) ) ) ) ) ) ) ) ( ROOT ( S ( NP ( DT The ) ( NNS sales ) ( NN tax ) ) ( VP ( MD would ) ( ADVP ( RB really ) ) ( VP ( VB drive ) ( NP ( NP ( DT the ) ( NN price ) ) ( PP ( IN of ) ( NP ( DT the ) ( NN car ) ) ) ) ( PRT ( RP up ) ) ) ) ( . . ) ) ) so who so if you go out and you 're talking like a ten or fifteen thousand dollar vehicle and you add that sales tax on that 's a that 's a big chunk of change you have to come up with The sales tax would really drive the price of the car up . neutral entailment entailment entailment neutral entailment 6987 109876 109876e government ( ( Text ( ( ( ( Box 2.1 ) : ) ( ( ( Gross ( Domestic Product ) ) and ) ( Gross ( National ( Product ( 48Text ( Box 4.1 ) ) ) ) ) ) ) : ) ) ( How ( do ( ( the ( NIPA ( and ( federal ( unified ( budget concepts ) ) ) ) ) ) of ) ) ) ) ( ( Text ( about ( ( GDP and ) GNP ) ) ) . ) ( ROOT ( VP ( VB Text ) ( NP ( NP ( NNP Box ) ( CD 2.1 ) ) ( : : ) ( NP ( NP ( NNP Gross ) ( NNP Domestic ) ( NNP Product ) ) ( CC and ) ( NP ( NNP Gross ) ( NNP National ) ( NNP Product ) ( NNP 48Text ) ( NNP Box ) ( NNP 4.1 ) ) ) ( : : ) ) ( SBAR ( WHADVP ( WRB How ) ) ( S ( VP ( VBP do ) ( NP ( NP ( DT the ) ( NNP NIPA ) ( CC and ) ( JJ federal ) ( JJ unified ) ( NN budget ) ( NNS concepts ) ) ( PP ( IN of ) ) ) ) ) ) ) ) ( ROOT ( S ( VP ( VB Text ) ( PP ( IN about ) ( NP ( NNP GDP ) ( CC and ) ( NNP GNP ) ) ) ) ( . . ) ) ) Text Box 2.1 : Gross Domestic Product and Gross National Product 48Text Box 4.1 : How do the NIPA and federal unified budget concepts of Text about GDP and GNP . entailment entailment entailment entailment entailment entailment 6988 34932 34932e fiction ( Emeralds ? ) ( Emeralds ? ) ( ROOT ( NP ( NNS Emeralds ) ( . ? ) ) ) ( ROOT ( NP ( NNS Emeralds ) ( . ? ) ) ) Emeralds ? Emeralds ? entailment entailment entailment entailment entailment entailment 6989 19630 19630e fiction ( They ( ( make ( ( a ( pretty pair ) ) ( working together ) ) ) . ) ) ( They ( ( work ( well together ) ) . ) ) ( ROOT ( S ( NP ( PRP They ) ) ( VP ( VBP make ) ( NP ( NP ( DT a ) ( JJ pretty ) ( NN pair ) ) ( VP ( VBG working ) ( ADVP ( RB together ) ) ) ) ) ( . . ) ) ) ( ROOT ( S ( NP ( PRP They ) ) ( VP ( VBP work ) ( ADVP ( RB well ) ( RB together ) ) ) ( . . ) ) ) They make a pretty pair working together . They work well together . entailment entailment entailment entailment neutral entailment 6990 141917 141917c telephone ( i ( ( do n't ) ( understand ( that ( i ( thought ( that ( he ( ( was always ) ( a ( good player ) ) ) ) ) ) ) ) ) ) ) ( I ( always ( ( considered ( him ( to ( be ( a ( terrible player ) ) ) ) ) ) . ) ) ) ( ROOT ( S ( NP ( FW i ) ) ( VP ( VBP do ) ( RB n't ) ( VP ( VB understand ) ( SBAR ( IN that ) ( S ( NP ( FW i ) ) ( VP ( VBD thought ) ( SBAR ( IN that ) ( S ( NP ( PRP he ) ) ( VP ( VBD was ) ( ADVP ( RB always ) ) ( NP ( DT a ) ( JJ good ) ( NN player ) ) ) ) ) ) ) ) ) ) ) ) ( ROOT ( S ( NP ( PRP I ) ) ( ADVP ( RB always ) ) ( VP ( VBD considered ) ( S ( NP ( PRP him ) ) ( VP ( TO to ) ( VP ( VB be ) ( NP ( DT a ) ( JJ terrible ) ( NN player ) ) ) ) ) ) ( . . ) ) ) i do n't understand that i thought that he was always a good player I always considered him to be a terrible player . contradiction contradiction contradiction contradiction contradiction contradiction 6991 94697 94697e telephone ( but ( i ( think ( that ( ( 's probably ) ( a ( good idea ) ) ) ) ) ) ) ( I ( ( believe ( that ( ( is potentially ) ( a ( great idea ) ) ) ) ) . ) ) ( ROOT ( S ( CC but ) ( NP ( FW i ) ) ( VP ( VBP think ) ( SBAR ( IN that ) ( S ( VP ( VBZ 's ) ( ADVP ( RB probably ) ) ( NP ( DT a ) ( JJ good ) ( NN idea ) ) ) ) ) ) ) ) ( ROOT ( S ( NP ( PRP I ) ) ( VP ( VBP believe ) ( SBAR ( IN that ) ( S ( VP ( VBZ is ) ( ADVP ( RB potentially ) ) ( NP ( DT a ) ( JJ great ) ( NN idea ) ) ) ) ) ) ( . . ) ) ) but i think that 's probably a good idea I believe that is potentially a great idea . entailment entailment entailment neutral entailment entailment 6992 128176 128176n slate ( ( ( The chart ) ( ( to which ) ( Reich refers ) ) ) ( ( ( was actually ) ( presented ( during ( ( ( ( Saxton 's ) ( opening statement ) ) , ) ( hours ( before ( Reich ( ( ( testified , ) and ) ( ( did not ) ( look ( as ( Reich ( claims ( it did ) ) ) ) ) ) ) ) ) ) ) ) ) ) . ) ) ( Reich ( ( ( refers ( to ( a chart ) ) ) ( that ( he ( ( misunderstood and ) ( said ( it ( said ( something different ) ) ) ) ) ) ) ) . ) ) ( ROOT ( S ( NP ( NP ( DT The ) ( NN chart ) ) ( SBAR ( WHPP ( TO to ) ( WHNP ( WDT which ) ) ) ( S ( NP ( NNP Reich ) ) ( VP ( VBZ refers ) ) ) ) ) ( VP ( VBD was ) ( ADVP ( RB actually ) ) ( VP ( VBN presented ) ( PP ( IN during ) ( NP ( NP ( NP ( NNP Saxton ) ( POS 's ) ) ( VBG opening ) ( NN statement ) ) ( , , ) ( NP ( NP ( NNS hours ) ) ( SBAR ( IN before ) ( S ( NP ( NNP Reich ) ) ( VP ( VP ( VBD testified ) ) ( , , ) ( CC and ) ( VP ( VBD did ) ( RB not ) ( VP ( VB look ) ( SBAR ( IN as ) ( S ( NP ( NNP Reich ) ) ( VP ( VBZ claims ) ( SBAR ( S ( NP ( PRP it ) ) ( VP ( VBD did ) ) ) ) ) ) ) ) ) ) ) ) ) ) ) ) ) ( . . ) ) ) ( ROOT ( S ( NP ( NNP Reich ) ) ( VP ( VBZ refers ) ( PP ( TO to ) ( NP ( DT a ) ( NN chart ) ) ) ( SBAR ( IN that ) ( S ( NP ( PRP he ) ) ( VP ( VP ( VBZ misunderstood ) ) ( CC and ) ( VP ( VBD said ) ( SBAR ( S ( NP ( PRP it ) ) ( VP ( VBD said ) ( S ( NP ( NN something ) ) ( ADJP ( JJ different ) ) ) ) ) ) ) ) ) ) ) ( . . ) ) ) The chart to which Reich refers was actually presented during Saxton 's opening statement , hours before Reich testified , and did not look as Reich claims it did . Reich refers to a chart that he misunderstood and said it said something different . neutral entailment entailment neutral entailment entailment 6993 96516 96516e slate ( ( As ( ( Ben Yagoda ) ( writes ( ( ( ( in ( the ( New ( York ( Times ( Book Review ) ) ) ) ) ) , ) somewhere ) ( along ( the way ) ) ) ) ) ) ( , ( Kidder ( ( must ( have ( decided ( not ( to ( write ( ( a book ) ( about ( Tommy O'Connor ) ) ) ) ) ) ) ) ) . ) ) ) ) ( ( A book ) ( ( ( was not ) ( written ( about ( Tommy O'Connor ) ) ) ) . ) ) ( ROOT ( S ( SBAR ( IN As ) ( S ( NP ( NNP Ben ) ( NNP Yagoda ) ) ( VP ( VBZ writes ) ( PP ( PP ( IN in ) ( NP ( DT the ) ( NNP New ) ( NNP York ) ( NNP Times ) ( NNP Book ) ( NNP Review ) ) ) ( , , ) ( RB somewhere ) ( PP ( IN along ) ( NP ( DT the ) ( NN way ) ) ) ) ) ) ) ( , , ) ( NP ( NNP Kidder ) ) ( VP ( MD must ) ( VP ( VB have ) ( VP ( VBN decided ) ( S ( RB not ) ( VP ( TO to ) ( VP ( VB write ) ( NP ( NP ( DT a ) ( NN book ) ) ( PP ( IN about ) ( NP ( NNP Tommy ) ( NNP O'Connor ) ) ) ) ) ) ) ) ) ) ( . . ) ) ) ( ROOT ( S ( NP ( DT A ) ( NN book ) ) ( VP ( VBD was ) ( RB not ) ( VP ( VBN written ) ( PP ( IN about ) ( NP ( NNP Tommy ) ( NNP O'Connor ) ) ) ) ) ( . . ) ) ) As Ben Yagoda writes in the New York Times Book Review , somewhere along the way , Kidder must have decided not to write a book about Tommy O'Connor . A book was not written about Tommy O'Connor . entailment neutral entailment entailment neutral entailment 6994 115361 115361c government ( We ( ( must ( re-examine ( ( ( the base ) , ) ( including ( our ( current ( human ( capital ( ( policies and ) practices ) ) ) ) ) ) ) ) ) . ) ) ( We ( ( ( do n't ) ( have ( to ( ( look ( at ( the base ) ) ) again ) ) ) ) . ) ) ( ROOT ( S ( NP ( PRP We ) ) ( VP ( MD must ) ( VP ( VB re-examine ) ( NP ( NP ( DT the ) ( NN base ) ) ( , , ) ( PP ( VBG including ) ( NP ( PRP $ our ) ( JJ current ) ( JJ human ) ( NN capital ) ( NNS policies ) ( CC and ) ( NNS practices ) ) ) ) ) ) ( . . ) ) ) ( ROOT ( S ( NP ( PRP We ) ) ( VP ( VBP do ) ( RB n't ) ( VP ( VB have ) ( S ( VP ( TO to ) ( VP ( VB look ) ( PP ( IN at ) ( NP ( DT the ) ( NN base ) ) ) ( ADVP ( RB again ) ) ) ) ) ) ) ( . . ) ) ) We must re-examine the base , including our current human capital policies and practices . We do n't have to look at the base again . contradiction contradiction contradiction contradiction contradiction contradiction 6995 80974 80974n fiction ( You ( ( ( ( 're crazed ) , ) Beresford ) . ) ) ( You ( ( need ( to ( see ( ( ( a therapist ) , ) Beresford ) ) ) ) . ) ) ( ROOT ( S ( NP ( PRP You ) ) ( VP ( VBP 're ) ( ADJP ( JJ crazed ) ) ( , , ) ( ADJP ( JJ Beresford ) ) ) ( . . ) ) ) ( ROOT ( S ( NP ( PRP You ) ) ( VP ( VBP need ) ( S ( VP ( TO to ) ( VP ( VB see ) ( NP ( NP ( DT a ) ( NN therapist ) ) ( , , ) ( NP ( NNP Beresford ) ) ) ) ) ) ) ( . . ) ) ) You 're crazed , Beresford . You need to see a therapist , Beresford . neutral neutral neutral neutral entailment neutral 6996 133678 133678c telephone ( from ( ( grocery ( store baggers ) ) ( that ( want ( to ( ( buy ( my car ) ) ( because ( it ( 's ( ( a ( Trans Am ) ) ( ( ( they ( 're ( ( high ( school seniors ) ) ( ( seventeen years ) old ) ) ) ) and ) ( they ( got ( to ( impress ( their ( girl friend ) ) ) ) ) ) ) ) ) ) ) ) ) ) ) ) ) ( ( My ( Trans Am ) ) ( ( ( ( is n't ) popular ) ( at all ) ) . ) ) ( ROOT ( PP ( IN from ) ( NP ( NP ( NN grocery ) ( NN store ) ( NNS baggers ) ) ( SBAR ( WHNP ( WDT that ) ) ( S ( VP ( VBP want ) ( S ( VP ( TO to ) ( VP ( VB buy ) ( NP ( PRP $ my ) ( NN car ) ) ( SBAR ( IN because ) ( S ( NP ( PRP it ) ) ( VP ( VBZ 's ) ( NP ( NP ( DT a ) ( NNP Trans ) ( NNP Am ) ) ( SBAR ( S ( S ( NP ( PRP they ) ) ( VP ( VBP 're ) ( NP ( NP ( JJ high ) ( NN school ) ( NNS seniors ) ) ( ADJP ( NP ( CD seventeen ) ( NNS years ) ) ( JJ old ) ) ) ) ) ( CC and ) ( S ( NP ( PRP they ) ) ( VP ( VBD got ) ( S ( VP ( TO to ) ( VP ( VB impress ) ( NP ( PRP $ their ) ( NN girl ) ( NN friend ) ) ) ) ) ) ) ) ) ) ) ) ) ) ) ) ) ) ) ) ) ) ( ROOT ( S ( NP ( NNP My ) ( NNP Trans ) ( NNP Am ) ) ( VP ( VBZ is ) ( RB n't ) ( ADJP ( JJ popular ) ) ( ADVP ( IN at ) ( DT all ) ) ) ( . . ) ) ) from grocery store baggers that want to buy my car because it 's a Trans Am they 're high school seniors seventeen years old and they got to impress their girl friend My Trans Am is n't popular at all . contradiction neutral contradiction contradiction contradiction contradiction 6997 64231 64231c government ( ( In ( ( ( addition ( to ( the arguments ) ) ) ( ( ( previously ( advanced ( by ( the ( Vice ( Presidentas representatives ) ) ) ) ) ) and ) ( ( addressed ( in ( ( our ( June ( 22 letter ) ) ) ( to ( the Counsel ) ) ) ) ) ( to ( the ( Vice President ) ) ) ) ) ) ( -LRB- ( ( see ( Enclosure 1 ) ) -RRB- ) ) ) ) ( , ( ( the ( Vice ( Presidentas ( August ( 2 letter ) ) ) ) ) ( ( to ( the Congress ) ) ( ( asserts ( ( ( that ( ( the study ) ( ( is not ) ( ( ( ( authorized ( by statute ) ) ( because ( GAO ( is ( limited ( to ( looking ( at ( the aresults ) ) ) ) ) ) ) ) ) - ) ( of programs ) ) ) ) ) and ) ( that ( GAO ( ( does not ) ( ( have ( ( a right ) ( of ( access ( to documents ) ) ) ) ) ( because ( ( the ( Vice President ) ) ( ( is not ) ( included ( under ( ( ( the ( term aagency ) ) - ) ( used ( in ( GAOas statute ) ) ) ) ) ) ) ) ) ) ) ) ) ) ) . ) ) ) ) ) ( Congress ( ( ( ( received ( no letter ) ) ( from ( the ( Vice President ) ) ) ) ( on ( ( the topic ) ( of ( ( GAO 's ) study ) ) ) ) ) . ) ) ( ROOT ( S ( PP ( IN In ) ( NP ( NP ( NP ( NN addition ) ) ( PP ( TO to ) ( NP ( DT the ) ( NNS arguments ) ) ) ( UCP ( ADJP ( RB previously ) ( JJ advanced ) ( PP ( IN by ) ( NP ( DT the ) ( NNP Vice ) ( NNP Presidentas ) ( NNS representatives ) ) ) ) ( CC and ) ( VP ( VBN addressed ) ( PP ( IN in ) ( NP ( NP ( PRP $ our ) ( NNP June ) ( CD 22 ) ( NN letter ) ) ( PP ( TO to ) ( NP ( DT the ) ( NNP Counsel ) ) ) ) ) ( PP ( TO to ) ( NP ( DT the ) ( NNP Vice ) ( NNP President ) ) ) ) ) ) ( PRN ( -LRB- -LRB- ) ( S ( VP ( VB see ) ( NP ( NNP Enclosure ) ( CD 1 ) ) ) ) ( -RRB- -RRB- ) ) ) ) ( , , ) ( NP ( DT the ) ( NNP Vice ) ( NNP Presidentas ) ( NNP August ) ( CD 2 ) ( NN letter ) ) ( PP ( TO to ) ( NP ( DT the ) ( NNP Congress ) ) ) ( VP ( VBZ asserts ) ( SBAR ( SBAR ( IN that ) ( S ( NP ( DT the ) ( NN study ) ) ( VP ( VBZ is ) ( RB not ) ( VP ( VBN authorized ) ( PP ( IN by ) ( NP ( NN statute ) ) ) ( SBAR ( IN because ) ( S ( NP ( NNP GAO ) ) ( VP ( VBZ is ) ( ADJP ( VBN limited ) ( PP ( TO to ) ( S ( VP ( VBG looking ) ( PP ( IN at ) ( NP ( DT the ) ( NNS aresults ) ) ) ) ) ) ) ) ) ) ( : - ) ( PP ( IN of ) ( NP ( NNS programs ) ) ) ) ) ) ) ( CC and ) ( SBAR ( IN that ) ( S ( NP ( NNP GAO ) ) ( VP ( VBZ does ) ( RB not ) ( VP ( VB have ) ( NP ( NP ( DT a ) ( NN right ) ) ( PP ( IN of ) ( NP ( NP ( NN access ) ) ( PP ( TO to ) ( NP ( NNS documents ) ) ) ) ) ) ( SBAR ( IN because ) ( S ( NP ( DT the ) ( NNP Vice ) ( NNP President ) ) ( VP ( VBZ is ) ( RB not ) ( VP ( VBN included ) ( PP ( IN under ) ( NP ( NP ( DT the ) ( NN term ) ( NN aagency ) ) ( : - ) ( VP ( VBN used ) ( PP ( IN in ) ( NP ( NNP GAOas ) ( NN statute ) ) ) ) ) ) ) ) ) ) ) ) ) ) ) ) ( . . ) ) ) ( ROOT ( S ( NP ( NNP Congress ) ) ( VP ( VBD received ) ( NP ( DT no ) ( NN letter ) ) ( PP ( IN from ) ( NP ( DT the ) ( NNP Vice ) ( NNP President ) ) ) ( PP ( IN on ) ( NP ( NP ( DT the ) ( NN topic ) ) ( PP ( IN of ) ( NP ( NP ( NNP GAO ) ( POS 's ) ) ( NN study ) ) ) ) ) ) ( . . ) ) ) In addition to the arguments previously advanced by the Vice Presidentas representatives and addressed in our June 22 letter to the Counsel to the Vice President ( see Enclosure 1 ) , the Vice Presidentas August 2 letter to the Congress asserts that the study is not authorized by statute because GAO is limited to looking at the aresults- of programs and that GAO does not have a right of access to documents because the Vice President is not included under the term aagency- used in GAOas statute . Congress received no letter from the Vice President on the topic of GAO 's study . contradiction contradiction contradiction contradiction entailment contradiction 6998 145863 145863e slate ( ( What ( 's ( ( ( needed , ) ( alongside ( an ( evacuation plan ) ) ) ) , ) ) ) ( ( is ( a ( realistic ( program ( to ( ( stabilize conditions ) ( for ( those ( left behind ) ) ) ) ) ) ) ) ) . ) ) ( ( Those left ) ( behind ( ( will ( ( ( need ( a program ) ) ( for ( stabilizing conditions ) ) ) ( if ( they ( ( can not ) evacuate ) ) ) ) ) . ) ) ) ( ROOT ( S ( SBAR ( WHNP ( WP What ) ) ( S ( VP ( VBZ 's ) ( VP ( VBN needed ) ( , , ) ( PP ( IN alongside ) ( NP ( DT an ) ( NN evacuation ) ( NN plan ) ) ) ( , , ) ) ) ) ) ( VP ( VBZ is ) ( NP ( DT a ) ( JJ realistic ) ( NN program ) ( S ( VP ( TO to ) ( VP ( VB stabilize ) ( NP ( NNS conditions ) ) ( PP ( IN for ) ( NP ( NP ( DT those ) ) ( VP ( VBN left ) ( PRT ( RP behind ) ) ) ) ) ) ) ) ) ) ( . . ) ) ) ( ROOT ( S ( NP ( DT Those ) ( NN left ) ) ( ADVP ( RB behind ) ) ( VP ( MD will ) ( VP ( VB need ) ( NP ( DT a ) ( NN program ) ) ( PP ( IN for ) ( NP ( VBG stabilizing ) ( NNS conditions ) ) ) ( SBAR ( IN if ) ( S ( NP ( PRP they ) ) ( VP ( MD can ) ( RB not ) ( VP ( VB evacuate ) ) ) ) ) ) ) ( . . ) ) ) What 's needed , alongside an evacuation plan , is a realistic program to stabilize conditions for those left behind . Those left behind will need a program for stabilizing conditions if they can not evacuate . entailment entailment entailment entailment entailment entailment 6999 110528 110528e telephone ( probably ( yeah ( i ( would ( imagine ( ( the judge ) ( could ( ( throw it ) out ) ) ) ) ) ) ) ) ( I ( ( would ( guess ( that ( ( the judge ) ( would ( be ( able ( to ( ( toss that ) out ) ) ) ) ) ) ) ) ) . ) ) ( ROOT ( S ( ADVP ( RB probably ) ) ( VP ( VB yeah ) ( SBAR ( S ( NP ( FW i ) ) ( VP ( MD would ) ( VP ( VB imagine ) ( SBAR ( S ( NP ( DT the ) ( NN judge ) ) ( VP ( MD could ) ( VP ( VB throw ) ( NP ( PRP it ) ) ( PRT ( RP out ) ) ) ) ) ) ) ) ) ) ) ) ) ( ROOT ( S ( NP ( PRP I ) ) ( VP ( MD would ) ( VP ( VB guess ) ( SBAR ( IN that ) ( S ( NP ( DT the ) ( NN judge ) ) ( VP ( MD would ) ( VP ( VB be ) ( ADJP ( JJ able ) ( S ( VP ( TO to ) ( VP ( VB toss ) ( NP ( DT that ) ) ( PRT ( RP out ) ) ) ) ) ) ) ) ) ) ) ) ( . . ) ) ) probably yeah i would imagine the judge could throw it out I would guess that the judge would be able to toss that out . entailment entailment entailment entailment entailment entailment 7000 84668 84668c travel ( ( ( A ( chancy road ) ) ( ( winding up ) ( to ( the ( 475-metre ( ( -LRB- ( 1,560-foot -RRB- ) ) summit ) ) ) ) ) ) ( ( is ( likely ( to ( test ( ( ( ( ( the ( ( engine and ) suspension ) ) ( of ( your car ) ) ) , ) ( as ( well as ) ) ) ( your ( own persistence ) ) ) ) ) ) ) . ) ) ( It ( ( is ( a ( ( ( short and ) easy ) ( trip ( to ( get ( to ( the summit ) ) ) ) ) ) ) ) . ) ) ( ROOT ( S ( NP ( NP ( DT A ) ( JJ chancy ) ( NN road ) ) ( VP ( VBG winding ) ( PRT ( RP up ) ) ( PP ( TO to ) ( NP ( DT the ) ( JJ 475-metre ) ( PRN ( -LRB- -LRB- ) ( ADJP ( JJ 1,560-foot ) ) ( -RRB- -RRB- ) ) ( NN summit ) ) ) ) ) ( VP ( VBZ is ) ( ADJP ( JJ likely ) ( S ( VP ( TO to ) ( VP ( VB test ) ( NP ( NP ( NP ( DT the ) ( NN engine ) ( CC and ) ( NN suspension ) ) ( PP ( IN of ) ( NP ( PRP $ your ) ( NN car ) ) ) ) ( , , ) ( CONJP ( RB as ) ( RB well ) ( IN as ) ) ( NP ( PRP $ your ) ( JJ own ) ( NN persistence ) ) ) ) ) ) ) ) ( . . ) ) ) ( ROOT ( S ( NP ( PRP It ) ) ( VP ( VBZ is ) ( NP ( DT a ) ( ADJP ( JJ short ) ( CC and ) ( JJ easy ) ) ( NN trip ) ( S ( VP ( TO to ) ( VP ( VB get ) ( PP ( TO to ) ( NP ( DT the ) ( NN summit ) ) ) ) ) ) ) ) ( . . ) ) ) A chancy road winding up to the 475-metre ( 1,560-foot ) summit is likely to test the engine and suspension of your car , as well as your own persistence . It is a short and easy trip to get to the summit . contradiction contradiction contradiction contradiction contradiction contradiction 7001 117446 117446c telephone ( that ( 's ( ( true ( um-hum well ) ) ( that ( ( ( 's true ) ( ( the America ) ( 's ( ( paying ( all ( this money ) ) ) ( to ( have ( ( other people ) ( ( give ( uh aid ) ) ( to ( other countries ) ) ) ) ) ) ) ) ) ) ( so ( they ( could ( be ( ( ( paying ( their ( own people ) ) ) and ) ( ( training ( their ( own people ) ) ) ( at ( the ( same time ) ) ) ) ) ) ) ) ) ) ) ) ) ) ( America ( ( has ( ( spent nothing ) ( on ( ( ( ( foreign aid ) so ) how ) ( ( would they ) ( be ( able ( to ( ( ( train and ) pay ) ( their ( own people ) ) ) ) ) ) ) ) ) ) ) . ) ) ( ROOT ( SBAR ( WHNP ( WDT that ) ) ( S ( VP ( VBZ 's ) ( NP ( NP ( JJ true ) ( JJ um-hum ) ( NN well ) ) ( SBAR ( WHNP ( WDT that ) ) ( S ( VP ( VBZ 's ) ( ADJP ( JJ true ) ) ( SBAR ( S ( NP ( DT the ) ( NNP America ) ) ( VP ( VBZ 's ) ( VP ( VBG paying ) ( NP ( PDT all ) ( DT this ) ( NN money ) ) ( S ( VP ( TO to ) ( VP ( VB have ) ( S ( NP ( JJ other ) ( NNS people ) ) ( VP ( VB give ) ( NP ( JJ uh ) ( NN aid ) ) ( PP ( TO to ) ( NP ( JJ other ) ( NNS countries ) ) ) ) ) ) ) ) ) ) ) ) ( SBAR ( IN so ) ( S ( NP ( PRP they ) ) ( VP ( MD could ) ( VP ( VB be ) ( VP ( VP ( VBG paying ) ( NP ( PRP $ their ) ( JJ own ) ( NNS people ) ) ) ( CC and ) ( VP ( VBG training ) ( NP ( PRP $ their ) ( JJ own ) ( NNS people ) ) ( PP ( IN at ) ( NP ( DT the ) ( JJ same ) ( NN time ) ) ) ) ) ) ) ) ) ) ) ) ) ) ) ) ) ( ROOT ( S ( NP ( NNP America ) ) ( VP ( VBZ has ) ( VP ( VBN spent ) ( NP ( NN nothing ) ) ( PP ( IN on ) ( SBARQ ( WHADVP ( ADVP ( NP ( JJ foreign ) ( NN aid ) ) ( RB so ) ) ( WRB how ) ) ( SQ ( MD would ) ( NP ( PRP they ) ) ( VP ( VB be ) ( ADJP ( JJ able ) ( S ( VP ( TO to ) ( VP ( VB train ) ( CC and ) ( VB pay ) ( NP ( PRP $ their ) ( JJ own ) ( NNS people ) ) ) ) ) ) ) ) ) ) ) ) ( . . ) ) ) that 's true um-hum well that 's true the America 's paying all this money to have other people give uh aid to other countries so they could be paying their own people and training their own people at the same time America has spent nothing on foreign aid so how would they be able to train and pay their own people . contradiction contradiction contradiction contradiction contradiction contradiction 7002 57244 57244e government ( ( Among ( the disadvantages ) ) ( ( are ( that ( ( ( the degree ) ( of ( innovation ( and ( product differentiation ) ) ) ) ) ( might ( continue ( to ( be limited ) ) ) ) ) ) ) . ) ) ( ( Limited innovation ) ( ( ( is not ) ( going ( to ( be ( an advantage ) ) ) ) ) . ) ) ( ROOT ( SINV ( PP ( IN Among ) ( NP ( DT the ) ( NNS disadvantages ) ) ) ( VP ( VBP are ) ) ( SBAR ( IN that ) ( S ( NP ( NP ( DT the ) ( NN degree ) ) ( PP ( IN of ) ( NP ( NN innovation ) ( CC and ) ( NN product ) ( NN differentiation ) ) ) ) ( VP ( MD might ) ( VP ( VB continue ) ( S ( VP ( TO to ) ( VP ( VB be ) ( VP ( VBN limited ) ) ) ) ) ) ) ) ) ( . . ) ) ) ( ROOT ( S ( NP ( JJ Limited ) ( NN innovation ) ) ( VP ( VBZ is ) ( RB not ) ( VP ( VBG going ) ( S ( VP ( TO to ) ( VP ( VB be ) ( NP ( DT an ) ( NN advantage ) ) ) ) ) ) ) ( . . ) ) ) Among the disadvantages are that the degree of innovation and product differentiation might continue to be limited . Limited innovation is not going to be an advantage . entailment entailment entailment entailment entailment entailment 7003 13023 13023e travel ( Outside ( , ( ( set ( in ( manicured gardens ) ) ) ( , ( ( are ( ( the remains ) ( of ( ( the Abbey ) ( of Holyrood ) ) ) ) ) . ) ) ) ) ) ( ( ( The Abbey ) ( of Holyrood ) ) ( ( is ( located ( outside ( among ( lovely gardens ) ) ) ) ) . ) ) ( ROOT ( S ( ADVP ( JJ Outside ) ) ( , , ) ( S ( VP ( VBN set ) ( PP ( IN in ) ( NP ( JJ manicured ) ( NNS gardens ) ) ) ) ) ( , , ) ( VP ( VBP are ) ( NP ( NP ( DT the ) ( NNS remains ) ) ( PP ( IN of ) ( NP ( NP ( DT the ) ( NN Abbey ) ) ( PP ( IN of ) ( NP ( NNP Holyrood ) ) ) ) ) ) ) ( . . ) ) ) ( ROOT ( S ( NP ( NP ( DT The ) ( NN Abbey ) ) ( PP ( IN of ) ( NP ( NNP Holyrood ) ) ) ) ( VP ( VBZ is ) ( VP ( VBN located ) ( PP ( IN outside ) ( PP ( IN among ) ( NP ( JJ lovely ) ( NNS gardens ) ) ) ) ) ) ( . . ) ) ) Outside , set in manicured gardens , are the remains of the Abbey of Holyrood . The Abbey of Holyrood is located outside among lovely gardens . entailment entailment entailment entailment entailment entailment 7004 53619 53619e slate ( True ( ( ( ( devotees ( talk shop ) ) ( at ( ( ( ( even more ) ( specialized groups ) ) , ) ( such ( as ( one ( on Northeastern ) ) ) ) ) ) ) ( ( ( weather ( -LRB- ( ne.weather -RRB- ) ) ) , ) ( whose ( ( recent ( conversation topics ) ) ( included ( ( ( ( the ( great blizzard ) ) ( of 1978 ) ) and ) ( ( the ( freak snowstorm ) ) ( of ( May 1977 ) ) ) ) ) ) ) ) ) . ) ) ( ( ( A group ) ( on ( Northeastern weather ) ) ) ( recently ( ( discussed ( ( the ( great blizzard ) ) ( of 1978 ) ) ) . ) ) ) ( ROOT ( SINV ( ADVP ( JJ True ) ) ( VP ( VBZ devotees ) ( NP ( NN talk ) ( NN shop ) ) ( PP ( IN at ) ( NP ( NP ( ADJP ( RB even ) ( JJR more ) ) ( VBN specialized ) ( NNS groups ) ) ( , , ) ( PP ( JJ such ) ( IN as ) ( NP ( NP ( CD one ) ) ( PP ( IN on ) ( NP ( NNP Northeastern ) ) ) ) ) ) ) ) ( NP ( NP ( NN weather ) ) ( PRN ( -LRB- -LRB- ) ( NP ( NN ne.weather ) ) ( -RRB- -RRB- ) ) ( , , ) ( SBAR ( WP $ whose ) ( S ( NP ( JJ recent ) ( NN conversation ) ( NNS topics ) ) ( VP ( VBD included ) ( NP ( NP ( NP ( DT the ) ( JJ great ) ( NN blizzard ) ) ( PP ( IN of ) ( NP ( CD 1978 ) ) ) ) ( CC and ) ( NP ( NP ( DT the ) ( NN freak ) ( NN snowstorm ) ) ( PP ( IN of ) ( NP ( NNP May ) ( CD 1977 ) ) ) ) ) ) ) ) ) ( . . ) ) ) ( ROOT ( S ( NP ( NP ( DT A ) ( NN group ) ) ( PP ( IN on ) ( NP ( NNP Northeastern ) ( NN weather ) ) ) ) ( ADVP ( RB recently ) ) ( VP ( VBD discussed ) ( NP ( NP ( DT the ) ( JJ great ) ( NN blizzard ) ) ( PP ( IN of ) ( NP ( CD 1978 ) ) ) ) ) ( . . ) ) ) True devotees talk shop at even more specialized groups , such as one on Northeastern weather ( ne.weather ) , whose recent conversation topics included the great blizzard of 1978 and the freak snowstorm of May 1977 . A group on Northeastern weather recently discussed the great blizzard of 1978. entailment entailment entailment entailment entailment entailment 7005 2870 2870e travel ( ( ( ( ( ( Most ( menu prices ) ) ( include ( ( taxes and ) ( a ( service charge ) ) ) ) ) , ) but ) ( it ( 's ( customary ( to ( ( leave ( a tip ) ) ( if ( you ( were ( served satisfactorily ) ) ) ) ) ) ) ) ) ) . ) ( ( ( ( ( ( Prices ( on ( the menu ) ) ) ( include taxes ) ) , ) but ) ( customers ( decide ( ( ( whether or ) not ) ( to tip ) ) ) ) ) . ) ( ROOT ( S ( S ( NP ( JJS Most ) ( NN menu ) ( NNS prices ) ) ( VP ( VBP include ) ( NP ( NP ( NNS taxes ) ) ( CC and ) ( NP ( DT a ) ( NN service ) ( NN charge ) ) ) ) ) ( , , ) ( CC but ) ( S ( NP ( PRP it ) ) ( VP ( VBZ 's ) ( ADJP ( JJ customary ) ( S ( VP ( TO to ) ( VP ( VB leave ) ( NP ( DT a ) ( NN tip ) ) ( SBAR ( IN if ) ( S ( NP ( PRP you ) ) ( VP ( VBD were ) ( VP ( VBN served ) ( ADVP ( RB satisfactorily ) ) ) ) ) ) ) ) ) ) ) ) ( . . ) ) ) ( ROOT ( S ( S ( NP ( NP ( NNS Prices ) ) ( PP ( IN on ) ( NP ( DT the ) ( NN menu ) ) ) ) ( VP ( VBP include ) ( NP ( NNS taxes ) ) ) ) ( , , ) ( CC but ) ( S ( NP ( NNS customers ) ) ( VP ( VBP decide ) ( PP ( PP ( IN whether ) ) ( CC or ) ( RB not ) ( PP ( TO to ) ( NP ( NN tip ) ) ) ) ) ) ( . . ) ) ) Most menu prices include taxes and a service charge , but it 's customary to leave a tip if you were served satisfactorily . Prices on the menu include taxes , but customers decide whether or not to tip . entailment entailment entailment entailment entailment entailment 7006 102801 102801c travel ( ( ( ( ( ( ( The ( formal splendor ) ) ( of ( the grounds ) ) ) ( ( testify ( to ( the ( 18th-century desire ) ) ) ) ( to ( tame nature ) ) ) ) , ) but ) ( it ( is ( ( done ( with ( such ( superlative results ) ) ) ) ( that ( one ( ( can only ) ( ( be thankful ) ( that ( ( the work ) ( was undertaken ) ) ) ) ) ) ) ) ) ) ) . ) ( ( The grounds ) ( ( were ( ( trashy and ) ugly ) ) . ) ) ( ROOT ( S ( S ( NP ( NP ( DT The ) ( JJ formal ) ( NN splendor ) ) ( PP ( IN of ) ( NP ( DT the ) ( NNS grounds ) ) ) ) ( VP ( VBP testify ) ( PP ( TO to ) ( NP ( DT the ) ( JJ 18th-century ) ( NN desire ) ) ) ( PP ( TO to ) ( NP ( JJ tame ) ( NN nature ) ) ) ) ) ( , , ) ( CC but ) ( S ( NP ( PRP it ) ) ( VP ( VBZ is ) ( VP ( VBN done ) ( PP ( IN with ) ( NP ( JJ such ) ( NN superlative ) ( NNS results ) ) ) ( SBAR ( IN that ) ( S ( NP ( PRP one ) ) ( VP ( MD can ) ( ADVP ( RB only ) ) ( VP ( VB be ) ( ADJP ( JJ thankful ) ) ( SBAR ( IN that ) ( S ( NP ( DT the ) ( NN work ) ) ( VP ( VBD was ) ( VP ( VBN undertaken ) ) ) ) ) ) ) ) ) ) ) ) ( . . ) ) ) ( ROOT ( S ( NP ( DT The ) ( NNS grounds ) ) ( VP ( VBD were ) ( ADJP ( JJ trashy ) ( CC and ) ( JJ ugly ) ) ) ( . . ) ) ) The formal splendor of the grounds testify to the 18th-century desire to tame nature , but it is done with such superlative results that one can only be thankful that the work was undertaken . The grounds were trashy and ugly . contradiction contradiction contradiction contradiction contradiction contradiction 7007 101593 101593e fiction ( Then ( it ( ( ( occurred ( to me ) ) ( that ( ( the ( criminal standard ) ) ( was ( a ( low one ) ) ) ) ) ) . ) ) ) ( I ( then ( ( realized ( that ( criminals ( have ( small ideals ) ) ) ) ) . ) ) ) ( ROOT ( S ( RB Then ) ( NP ( PRP it ) ) ( VP ( VBD occurred ) ( PP ( TO to ) ( NP ( PRP me ) ) ) ( SBAR ( IN that ) ( S ( NP ( DT the ) ( JJ criminal ) ( NN standard ) ) ( VP ( VBD was ) ( NP ( DT a ) ( JJ low ) ( NN one ) ) ) ) ) ) ( . . ) ) ) ( ROOT ( S ( NP ( PRP I ) ) ( ADVP ( RB then ) ) ( VP ( VBD realized ) ( SBAR ( IN that ) ( S ( NP ( NNS criminals ) ) ( VP ( VBP have ) ( NP ( JJ small ) ( NNS ideals ) ) ) ) ) ) ( . . ) ) ) Then it occurred to me that the criminal standard was a low one . I then realized that criminals have small ideals . entailment entailment entailment neutral entailment entailment 7008 26299 26299n travel ( ( Restored ( in 1967 ) ) ( , ( ( the ( beautiful exterior ) ) ( ( is ( complemented ( by ( ( the ( fine ( period furniture ) ) ) ( housed inside ) ) ) ) ) . ) ) ) ) ( ( ( The restorations ) ( done ( to ( the structure ) ) ) ) ( ( is ( very promising ) ) . ) ) ( ROOT ( S ( S ( VP ( VBN Restored ) ( PP ( IN in ) ( NP ( CD 1967 ) ) ) ) ) ( , , ) ( NP ( DT the ) ( JJ beautiful ) ( NN exterior ) ) ( VP ( VBZ is ) ( VP ( VBN complemented ) ( PP ( IN by ) ( NP ( NP ( DT the ) ( JJ fine ) ( NN period ) ( NN furniture ) ) ( VP ( VBN housed ) ( ADVP ( RB inside ) ) ) ) ) ) ) ( . . ) ) ) ( ROOT ( S ( NP ( NP ( DT The ) ( NNS restorations ) ) ( VP ( VBN done ) ( PP ( TO to ) ( NP ( DT the ) ( NN structure ) ) ) ) ) ( VP ( VBZ is ) ( ADJP ( RB very ) ( JJ promising ) ) ) ( . . ) ) ) Restored in 1967 , the beautiful exterior is complemented by the fine period furniture housed inside . The restorations done to the structure is very promising . neutral neutral neutral entailment neutral neutral 7009 36320 36320e fiction ( He ( ( ( ( sat ( a ( short distance ) ) ) ( from ( ( them , ) ( his eyes ) ) ) ) ( on Jon ) ) . ) ) ( ( Looking ( at Jon ) ) ( , ( he ( ( ( sat ( a ( short distance ) ) ) ( from them ) ) . ) ) ) ) ( ROOT ( S ( NP ( PRP He ) ) ( VP ( VBD sat ) ( NP ( DT a ) ( JJ short ) ( NN distance ) ) ( PP ( IN from ) ( NP ( NP ( PRP them ) ) ( , , ) ( NP ( PRP $ his ) ( NNS eyes ) ) ) ) ( PP ( IN on ) ( NP ( NNP Jon ) ) ) ) ( . . ) ) ) ( ROOT ( S ( S ( VP ( VBG Looking ) ( PP ( IN at ) ( NP ( NNP Jon ) ) ) ) ) ( , , ) ( NP ( PRP he ) ) ( VP ( VBD sat ) ( NP ( DT a ) ( JJ short ) ( NN distance ) ) ( PP ( IN from ) ( NP ( PRP them ) ) ) ) ( . . ) ) ) He sat a short distance from them , his eyes on Jon . Looking at Jon , he sat a short distance from them . entailment entailment entailment entailment entailment entailment 7010 141439 141439n travel ( ( As ( ( a counterweight ) ( to ( the ( Singapore Chinese ) ) ) ) ) ( , ( he ( ( would ( ( ( bring ( in ( ( the ( North ( Borneo states ) ) ) ( of ( ( Sabah and ) Sarawak ) ) ) ) ) , ) ( ( granting them ) ( ( special privileges ) ( for ( ( their ( indigenous ( ( populations and ) funds ) ) ) ( for ( ( the development ) ( of ( their ( backward economies ) ) ) ) ) ) ) ) ) ) ) . ) ) ) ) ( ( The ( indigenous populations ) ) ( ( were ( growing ( at ( ( an ( alarming rate ) ) ( over ( the years ) ) ) ) ) ) . ) ) ( ROOT ( S ( PP ( IN As ) ( NP ( NP ( DT a ) ( NN counterweight ) ) ( PP ( TO to ) ( NP ( DT the ) ( NNP Singapore ) ( NNPS Chinese ) ) ) ) ) ( , , ) ( NP ( PRP he ) ) ( VP ( MD would ) ( VP ( VB bring ) ( PP ( IN in ) ( NP ( NP ( DT the ) ( NNP North ) ( NNP Borneo ) ( NNS states ) ) ( PP ( IN of ) ( NP ( NNP Sabah ) ( CC and ) ( NNP Sarawak ) ) ) ) ) ( , , ) ( S ( VP ( VBG granting ) ( NP ( PRP them ) ) ( NP ( NP ( JJ special ) ( NNS privileges ) ) ( PP ( IN for ) ( NP ( NP ( PRP $ their ) ( NN indigenous ) ( NNS populations ) ( CC and ) ( NNS funds ) ) ( PP ( IN for ) ( NP ( NP ( DT the ) ( NN development ) ) ( PP ( IN of ) ( NP ( PRP $ their ) ( JJ backward ) ( NNS economies ) ) ) ) ) ) ) ) ) ) ) ) ( . . ) ) ) ( ROOT ( S ( NP ( DT The ) ( JJ indigenous ) ( NNS populations ) ) ( VP ( VBD were ) ( VP ( VBG growing ) ( PP ( IN at ) ( NP ( NP ( DT an ) ( ADJP ( JJ alarming ) ) ( NN rate ) ) ( PP ( IN over ) ( NP ( DT the ) ( NNS years ) ) ) ) ) ) ) ( . . ) ) ) As a counterweight to the Singapore Chinese , he would bring in the North Borneo states of Sabah and Sarawak , granting them special privileges for their indigenous populations and funds for the development of their backward economies . The indigenous populations were growing at an alarming rate over the years . neutral neutral neutral neutral neutral neutral 7011 107772 107772n travel ( Nobody ( ( knows ( much ( about ( the ( early Etruscans ) ) ) ) ) . ) ) ( Nobody ( ( ( ( knows ( about them ) ) , ) ( because ( they ( ( did n't ) ( exist ( for ( a ( long time ) ) ) ) ) ) ) ) . ) ) ( ROOT ( S ( NP ( NN Nobody ) ) ( VP ( VBZ knows ) ( ADVP ( RB much ) ( NP ( RB about ) ( DT the ) ( JJ early ) ( NNS Etruscans ) ) ) ) ( . . ) ) ) ( ROOT ( S ( NP ( NN Nobody ) ) ( VP ( VBZ knows ) ( PP ( IN about ) ( NP ( PRP them ) ) ) ( , , ) ( SBAR ( IN because ) ( S ( NP ( PRP they ) ) ( VP ( VBD did ) ( RB n't ) ( VP ( VB exist ) ( PP ( IN for ) ( NP ( DT a ) ( JJ long ) ( NN time ) ) ) ) ) ) ) ) ( . . ) ) ) Nobody knows much about the early Etruscans . Nobody knows about them , because they did n't exist for a long time . neutral neutral neutral neutral contradiction neutral 7012 55205 55205e fiction ( ( ( ( ( I ( 've ( ( ( got it ) ( down ( in ( my notes ) ) ) ) ( if ( you ( want ( to ( see them ) ) ) ) ) ) ) ) . ) '' ) ( She ( extended ( the ( woven cords ) ) ) ) ) . ) ( She ( ( ( offered up ) ( her notes ) ) . ) ) ( ROOT ( S ( S ( NP ( PRP I ) ) ( VP ( VBP 've ) ( VP ( VBN got ) ( NP ( PRP it ) ) ( ADVP ( RB down ) ( PP ( IN in ) ( NP ( PRP $ my ) ( NNS notes ) ) ) ) ( SBAR ( IN if ) ( S ( NP ( PRP you ) ) ( VP ( VBP want ) ( S ( VP ( TO to ) ( VP ( VB see ) ( NP ( PRP them ) ) ) ) ) ) ) ) ) ) ) ( . . ) ( `` `` ) ( S ( NP ( PRP She ) ) ( VP ( VBD extended ) ( NP ( DT the ) ( JJ woven ) ( NNS cords ) ) ) ) ( . . ) ) ) ( ROOT ( S ( NP ( PRP She ) ) ( VP ( VBD offered ) ( PRT ( RP up ) ) ( NP ( PRP $ her ) ( NNS notes ) ) ) ( . . ) ) ) I 've got it down in my notes if you want to see them . She extended the woven cords .\""
      ]
     },
     "execution_count": 272,
     "metadata": {},
     "output_type": "execute_result"
    }
   ],
   "source": [
    "# abnormal data\n",
    "val_genre['fiction']['premises'][592]"
   ]
  },
  {
   "cell_type": "code",
   "execution_count": 212,
   "metadata": {},
   "outputs": [],
   "source": [
    "# data loader\n",
    "batch_size_genre = 100\n",
    "train_genre_loader, val_genre_loader = {}, {}\n",
    "for key in train_genre.keys():\n",
    "    train = (train_indices_genre[key]['premises'], train_indices_genre[key]['hypothesis'])\n",
    "    val = (val_indices_genre[key]['premises'], val_indices_genre[key]['hypothesis'])\n",
    "    train_genre_loader[key], val_genre_loader[key] = create_dataset_obj(train,val,\n",
    "                                                                        train_tokens_genre[key]['labels'],\n",
    "                                                                        val_tokens_genre[key]['labels'],\n",
    "                                                                        batch_size_genre, 150, 60,\n",
    "                                                                        newsgroup_collate_func)"
   ]
  },
  {
   "cell_type": "code",
   "execution_count": 250,
   "metadata": {},
   "outputs": [
    {
     "name": "stdout",
     "output_type": "stream",
     "text": [
      "telephone (1.1013628190213984, 48.159203980099505)\n",
      "fiction (1.0716461002826692, 48.54271356783919)\n",
      "slate (1.1501114585182883, 44.01197604790419)\n",
      "government (1.0726692243055864, 46.94881889763779)\n",
      "travel (1.0971527874469758, 47.86150712830957)\n"
     ]
    }
   ],
   "source": [
    "# evaluation on genres\n",
    "for key in train_genre.keys():\n",
    "    print(key, test_model(val_genre_loader[key], best_model, criterion))"
   ]
  },
  {
   "cell_type": "markdown",
   "metadata": {},
   "source": [
    "### Fine Tuning"
   ]
  },
  {
   "cell_type": "code",
   "execution_count": 264,
   "metadata": {},
   "outputs": [
    {
     "name": "stdout",
     "output_type": "stream",
     "text": [
      "travel rnn_genre_travel.pt\n",
      "1/10, Step:1/40, TrainLoss:0.932377, ValLoss:1.083102, TrainAcc:64.0, ValAcc:49.08350305498982\n",
      "1/10, Step:11/40, TrainLoss:0.990298, ValLoss:0.992581, TrainAcc:50.0, ValAcc:50.10183299389002\n",
      "1/10, Step:21/40, TrainLoss:0.991713, ValLoss:0.985602, TrainAcc:49.0, ValAcc:52.85132382892057\n",
      "1/10, Step:31/40, TrainLoss:0.958455, ValLoss:0.980004, TrainAcc:57.99999999999999, ValAcc:52.03665987780041\n",
      "Epoch:1/10, Genre:telephone, Validation Acc: 46.766169154228855\n",
      "Epoch:1/10, Genre:fiction, Validation Acc: 49.14572864321608\n",
      "Epoch:1/10, Genre:slate, Validation Acc: 45.50898203592814\n",
      "Epoch:1/10, Genre:government, Validation Acc: 53.44488188976378\n",
      "Epoch:1/10, Genre:travel, Validation Acc: 54.073319755600814\n",
      "2/10, Step:1/40, TrainLoss:1.001778, ValLoss:0.973615, TrainAcc:51.0, ValAcc:54.175152749490834\n",
      "2/10, Step:11/40, TrainLoss:0.965339, ValLoss:0.973031, TrainAcc:51.0, ValAcc:53.258655804480654\n",
      "2/10, Step:21/40, TrainLoss:0.960720, ValLoss:0.962740, TrainAcc:59.0, ValAcc:53.564154786150716\n",
      "2/10, Step:31/40, TrainLoss:1.002464, ValLoss:0.972836, TrainAcc:49.0, ValAcc:52.74949083503055\n",
      "Epoch:2/10, Genre:telephone, Validation Acc: 49.65174129353234\n",
      "Epoch:2/10, Genre:fiction, Validation Acc: 49.949748743718594\n",
      "Epoch:2/10, Genre:slate, Validation Acc: 46.20758483033932\n",
      "Epoch:2/10, Genre:government, Validation Acc: 53.54330708661417\n",
      "Epoch:2/10, Genre:travel, Validation Acc: 53.258655804480654\n"
     ]
    }
   ],
   "source": [
    "num_epoch_genre = 2\n",
    "\n",
    "model = model_with_RNN(hidden_size_pre, hidden_size_hy, hidden_size, \n",
    "                       drop_rate, num_classes, weights_matrix)\n",
    "checkpoint = torch.load(params['best_model_name'])\n",
    "model.load_state_dict(checkpoint['model_state_dict'])\n",
    "# optimizer.load_state_dict(checkpoint['optimizer_state_dict'])\n",
    "model.cuda()\n",
    "\n",
    "key = genres[4]\n",
    "model_path = 'rnn_genre_' +key+'.pt'\n",
    "print(key, model_path)\n",
    "train_genre_loader_one = train_genre_loader[key]\n",
    "val_genre_loader_one = val_genre_loader[key]\n",
    "\n",
    "optimizer = torch.optim.Adam(model.parameters(), lr=0.001)\n",
    "\n",
    "train_loss_list = []\n",
    "train_acc_list = []\n",
    "val_loss_list = []\n",
    "val_acc_list = []\n",
    "max_val_acc = 0\n",
    "\n",
    "for epoch in range(num_epoch_genre):\n",
    "    for i, (pre_batch, hy_batch, pre_len_batch, hy_len_batch, indices_pre, indices_hy, labels_batch) in enumerate(train_genre_loader_one):\n",
    "        pre_batch, hy_batch, labels_batch = pre_batch.cuda(), hy_batch.cuda(), labels_batch.cuda()\n",
    "        indices_pre, indices_hy = (indices_pre[0].cuda(), indices_pre[1].cuda()), (indices_hy[0].cuda(), indices_hy[1].cuda())\n",
    "        model.train()\n",
    "        optimizer.zero_grad()\n",
    "        outputs = model(pre_batch, hy_batch, pre_len_batch, hy_len_batch, indices_pre, indices_hy)\n",
    "        loss = criterion(outputs, labels_batch)\n",
    "        loss.backward()\n",
    "        optimizer.step()\n",
    "        # validate every 100 iterations\n",
    "        if i % 10 == 0:\n",
    "            # validate\n",
    "            train_loss_list.append(loss.item())\n",
    "            acc_train = compute_train_acc_batch(pre_batch, hy_batch, pre_len_batch, \n",
    "                                                hy_len_batch, indices_pre, indices_hy, \n",
    "                                                labels_batch, model)\n",
    "            train_acc_list.append(acc_train)\n",
    "            loss_val, acc_val = test_model(val_genre_loader_one, model, criterion)\n",
    "            val_loss_list.append(loss_val)\n",
    "            val_acc_list.append(acc_val)\n",
    "            if i % 10 == 0:\n",
    "                print('{}/{}, Step:{}/{}, TrainLoss:{:.6f}, ValLoss:{:.6f}, TrainAcc:{}, ValAcc:{}'.format(\n",
    "                    epoch+1, num_epochs, i+1, len(train_genre_loader_one), loss, loss_val, acc_train, acc_val))\n",
    "    for key in genres:\n",
    "        loss_val, acc_val = test_model(val_genre_loader[key], model, criterion)\n",
    "        print('Epoch:{}/{}, Genre:{}, Validation Acc: {}'.format(epoch+1, num_epochs, key, acc_val))\n",
    "    if acc_val > max_val_acc:\n",
    "        max_val_acc = acc_val\n",
    "        # save best model\n",
    "        # torch.save(model.state_dict(), model_path)"
   ]
  },
  {
   "cell_type": "code",
   "execution_count": null,
   "metadata": {},
   "outputs": [],
   "source": []
  }
 ],
 "metadata": {
  "kernelspec": {
   "display_name": "Python 3",
   "language": "python",
   "name": "python3"
  },
  "language_info": {
   "codemirror_mode": {
    "name": "ipython",
    "version": 3
   },
   "file_extension": ".py",
   "mimetype": "text/x-python",
   "name": "python",
   "nbconvert_exporter": "python",
   "pygments_lexer": "ipython3",
   "version": "3.6.3"
  }
 },
 "nbformat": 4,
 "nbformat_minor": 2
}
